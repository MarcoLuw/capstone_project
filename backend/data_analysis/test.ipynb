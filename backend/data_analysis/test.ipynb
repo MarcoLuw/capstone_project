{
 "cells": [
  {
   "cell_type": "code",
   "execution_count": 2,
   "metadata": {},
   "outputs": [],
   "source": [
    "import os\n",
    "\n",
    "import logging\n",
    "import pandas as pd\n",
    "import json\n",
    "import pymysql\n",
    "from trino.dbapi import Connection\n",
    "from openai import OpenAI"
   ]
  },
  {
   "cell_type": "code",
   "execution_count": 11,
   "metadata": {},
   "outputs": [],
   "source": [
    "def connectToDB():\n",
    "    # Trino connection information \n",
    "    host = 'trino'  # Adjust this to your Trino host\n",
    "    port = 8888  # Default Trino port\n",
    "    # catalog = 'warehouse'  # Your catalog name\n",
    "    catalog = 'default'\n",
    "    # schema = f'gold_{username}'  # Your schema name\n",
    "    schema = 'public'\n",
    "    user = 'trino'  # Your Trino user\n",
    "    # password = 'your_password'  # Your Trino password\n",
    "\n",
    "    # Create the connection string\n",
    "    connection_string = {\n",
    "        'host': host,\n",
    "        'port': port,\n",
    "        'user': user,\n",
    "        'catalog': catalog,\n",
    "        'schema': schema\n",
    "    }\n",
    "\n",
    "    # Connect to the database\n",
    "    try:\n",
    "        conn = Connection(**connection_string)\n",
    "        logging.info(\"Connection successful\")\n",
    "        print(\"Connection successful\")\n",
    "    except Exception as e:\n",
    "        logging.error(f\"Error connecting to the database: {e}\")\n",
    "        print(f\"Error connecting to the database: {e}\")\n",
    "        exit()\n",
    "\n",
    "    # return conn"
   ]
  },
  {
   "cell_type": "code",
   "execution_count": 12,
   "metadata": {},
   "outputs": [
    {
     "name": "stdout",
     "output_type": "stream",
     "text": [
      "Connection successful\n"
     ]
    }
   ],
   "source": [
    "connectToDB()"
   ]
  }
 ],
 "metadata": {
  "kernelspec": {
   "display_name": ".venv",
   "language": "python",
   "name": "python3"
  },
  "language_info": {
   "codemirror_mode": {
    "name": "ipython",
    "version": 3
   },
   "file_extension": ".py",
   "mimetype": "text/x-python",
   "name": "python",
   "nbconvert_exporter": "python",
   "pygments_lexer": "ipython3",
   "version": "3.10.11"
  }
 },
 "nbformat": 4,
 "nbformat_minor": 2
}
