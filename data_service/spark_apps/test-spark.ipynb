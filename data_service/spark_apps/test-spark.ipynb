{
 "cells": [
  {
   "cell_type": "code",
   "execution_count": 2,
   "id": "293ef7fd-84ae-4f4a-92c9-aaeab4982ae4",
   "metadata": {},
   "outputs": [
    {
     "name": "stderr",
     "output_type": "stream",
     "text": [
      "Warning: Ignoring non-Spark config property: hive.exec.dynamic.partition.mode\n",
      "Warning: Ignoring non-Spark config property: hive.exec.dynamic.partition\n"
     ]
    },
    {
     "name": "stdout",
     "output_type": "stream",
     "text": [
      ":: loading settings :: url = jar:file:/opt/spark/jars/ivy-2.5.1.jar!/org/apache/ivy/core/settings/ivysettings.xml\n"
     ]
    },
    {
     "name": "stderr",
     "output_type": "stream",
     "text": [
      "Ivy Default Cache set to: /root/.ivy2/cache\n",
      "The jars for the packages stored in: /root/.ivy2/jars\n",
      "io.delta#delta-core_2.12 added as a dependency\n",
      "org.apache.hadoop#hadoop-aws added as a dependency\n",
      ":: resolving dependencies :: org.apache.spark#spark-submit-parent-3d2ec19e-867d-4850-80fa-c3c6935f7847;1.0\n",
      "\tconfs: [default]\n",
      "\tfound io.delta#delta-core_2.12;2.4.0 in central\n",
      "\tfound io.delta#delta-storage;2.4.0 in central\n",
      "\tfound org.antlr#antlr4-runtime;4.9.3 in central\n",
      "\tfound org.apache.hadoop#hadoop-aws;3.3.4 in central\n",
      "\tfound org.wildfly.openssl#wildfly-openssl;1.0.7.Final in central\n",
      "downloading https://repo1.maven.org/maven2/io/delta/delta-core_2.12/2.4.0/delta-core_2.12-2.4.0.jar ...\n",
      "\t[SUCCESSFUL ] io.delta#delta-core_2.12;2.4.0!delta-core_2.12.jar (1531ms)\n",
      "downloading https://repo1.maven.org/maven2/org/apache/hadoop/hadoop-aws/3.3.4/hadoop-aws-3.3.4.jar ...\n",
      "\t[SUCCESSFUL ] org.apache.hadoop#hadoop-aws;3.3.4!hadoop-aws.jar (470ms)\n",
      "downloading https://repo1.maven.org/maven2/io/delta/delta-storage/2.4.0/delta-storage-2.4.0.jar ...\n",
      "\t[SUCCESSFUL ] io.delta#delta-storage;2.4.0!delta-storage.jar (412ms)\n",
      "downloading https://repo1.maven.org/maven2/org/antlr/antlr4-runtime/4.9.3/antlr4-runtime-4.9.3.jar ...\n",
      "\t[SUCCESSFUL ] org.antlr#antlr4-runtime;4.9.3!antlr4-runtime.jar (434ms)\n",
      "downloading https://repo1.maven.org/maven2/org/wildfly/openssl/wildfly-openssl/1.0.7.Final/wildfly-openssl-1.0.7.Final.jar ...\n",
      "\t[SUCCESSFUL ] org.wildfly.openssl#wildfly-openssl;1.0.7.Final!wildfly-openssl.jar (419ms)\n",
      ":: resolution report :: resolve 12192ms :: artifacts dl 3279ms\n",
      "\t:: modules in use:\n",
      "\tio.delta#delta-core_2.12;2.4.0 from central in [default]\n",
      "\tio.delta#delta-storage;2.4.0 from central in [default]\n",
      "\torg.antlr#antlr4-runtime;4.9.3 from central in [default]\n",
      "\torg.apache.hadoop#hadoop-aws;3.3.4 from central in [default]\n",
      "\torg.wildfly.openssl#wildfly-openssl;1.0.7.Final from central in [default]\n",
      "\t---------------------------------------------------------------------\n",
      "\t|                  |            modules            ||   artifacts   |\n",
      "\t|       conf       | number| search|dwnlded|evicted|| number|dwnlded|\n",
      "\t---------------------------------------------------------------------\n",
      "\t|      default     |   5   |   5   |   5   |   0   ||   5   |   5   |\n",
      "\t---------------------------------------------------------------------\n",
      ":: retrieving :: org.apache.spark#spark-submit-parent-3d2ec19e-867d-4850-80fa-c3c6935f7847\n",
      "\tconfs: [default]\n",
      "\t5 artifacts copied, 0 already retrieved (5891kB/16ms)\n",
      "24/05/31 07:07:58 WARN NativeCodeLoader: Unable to load native-hadoop library for your platform... using builtin-java classes where applicable\n",
      "Setting default log level to \"WARN\".\n",
      "To adjust logging level use sc.setLogLevel(newLevel). For SparkR, use setLogLevel(newLevel).\n"
     ]
    }
   ],
   "source": [
    "import sys\n",
    "\n",
    "from delta.tables import DeltaTable\n",
    "from pyspark.sql import SparkSession\n",
    "from minio import Minio\n",
    "from utils.common import get_spark_session, get_minio_client\n",
    "from utils.bronze import Bronze\n",
    "\n",
    "username = 'kayden'\n",
    "\n",
    "spark = get_spark_session(\n",
    "        f\"{username}_ETL\",\n",
    "        username,\n",
    "    )\n",
    "\n",
    "log_path = f\"s3a://{username}/logging\"\n",
    "\n",
    "spark._jsc.hadoopConfiguration().set(\"log4j.appender.file\", \"org.apache.log4j.FileAppender\")\n",
    "spark._jsc.hadoopConfiguration().set(\"log4j.appender.file.File\", log_path)\n",
    "spark._jsc.hadoopConfiguration().set(\"log4j.appender.file.layout\", \"org.apache.log4j.PatternLayout\")\n",
    "spark._jsc.hadoopConfiguration().set(\"log4j.appender.file.layout.ConversionPattern\", \"%d{yyyy-MM-dd HH:mm:ss} %-5p %c{1}:%L - %m%n\")\n",
    "\n",
    "    # mc = get_minio_client(username)\n",
    "MINIO_ENDPOINT = \"minio:9000/\"\n",
    "MINIO_ACCESS_KEY = username\n",
    "MINIO_SECRET_KEY = \"password\"\n",
    "\n",
    "mc = Minio(\n",
    "        endpoint=MINIO_ENDPOINT,\n",
    "        access_key=MINIO_ACCESS_KEY,\n",
    "        secret_key=MINIO_SECRET_KEY,\n",
    "        secure=False\n",
    "    )"
   ]
  },
  {
   "cell_type": "code",
   "execution_count": 3,
   "id": "a1553d2b-7a7a-4133-8eae-6190030f7e51",
   "metadata": {},
   "outputs": [
    {
     "name": "stderr",
     "output_type": "stream",
     "text": [
      "24/05/31 07:08:08 WARN MetricsConfig: Cannot locate configuration: tried hadoop-metrics2-s3a-file-system.properties,hadoop-metrics2.properties\n"
     ]
    },
    {
     "data": {
      "text/plain": [
       "DataFrame[namespace: string]"
      ]
     },
     "execution_count": 3,
     "metadata": {},
     "output_type": "execute_result"
    }
   ],
   "source": [
    "spark.sql(\"SHOW DATABASES\")"
   ]
  },
  {
   "cell_type": "code",
   "execution_count": 5,
   "id": "dbed3231-7904-47a9-ad6f-6a910bb91695",
   "metadata": {},
   "outputs": [
    {
     "name": "stderr",
     "output_type": "stream",
     "text": [
      "24/05/30 21:04:26 WARN HiveExternalCatalog: Couldn't find corresponding Hive SerDe for data source provider delta. Persisting data source table `spark_catalog`.`bronze_kayden`.`shopee_sales` into Hive metastore in Spark SQL specific format, which is NOT compatible with Hive.\n",
      "24/05/30 21:04:26 WARN SessionState: METASTORE_FILTER_HOOK will be ignored, since hive.security.authorization.manager is set to instance of HiveAuthorizerFactory.\n"
     ]
    },
    {
     "data": {
      "text/plain": [
       "DataFrame[]"
      ]
     },
     "execution_count": 5,
     "metadata": {},
     "output_type": "execute_result"
    }
   ],
   "source": [
    "spark.sql(\"CREATE DATABASE bronze_kayden\")\n",
    "spark.sql(\"use bronze_kayden\")\n",
    "spark.sql(\"create table shopee_sales using delta location 's3a://kayden/bronze/shopee_sales'\")"
   ]
  },
  {
   "cell_type": "code",
   "execution_count": 6,
   "id": "7cb455f3-9076-4b7d-bef3-6f92c2a3c88f",
   "metadata": {},
   "outputs": [
    {
     "name": "stderr",
     "output_type": "stream",
     "text": [
      "24/05/30 21:09:40 WARN package: Truncated the string representation of a plan since it was too large. This behavior can be adjusted by setting 'spark.sql.debug.maxToStringFields'.\n",
      "                                                                                \r"
     ]
    },
    {
     "name": "stdout",
     "output_type": "stream",
     "text": [
      "+-------+-----------+------------------+\n",
      "|quarter|day_of_week|day_of_week_number|\n",
      "+-------+-----------+------------------+\n",
      "|      2|     Monday|                 2|\n",
      "|      2|    Tuesday|                 3|\n",
      "|      2|  Wednesday|                 4|\n",
      "|      2|   Thursday|                 5|\n",
      "|      2|     Friday|                 6|\n",
      "+-------+-----------+------------------+\n",
      "\n"
     ]
    },
    {
     "name": "stderr",
     "output_type": "stream",
     "text": [
      "                                                                                \r"
     ]
    }
   ],
   "source": [
    "result_df = spark.sql(\"\"\"\n",
    "    SELECT\n",
    "        QUARTER(order_date) AS quarter,\n",
    "        DATE_FORMAT(order_date, 'EEEE') AS day_of_week,\n",
    "        DAYOFWEEK(order_date) AS day_of_week_number\n",
    "    FROM\n",
    "        bronze_kayden.shopee_sales\n",
    "\"\"\")\n",
    "\n",
    "# Show the result DataFrame\n",
    "result_df.show()"
   ]
  },
  {
   "cell_type": "code",
   "execution_count": 7,
   "id": "a7905e1a-a6e2-4a9e-bca5-66c92ccaf486",
   "metadata": {},
   "outputs": [
    {
     "name": "stdout",
     "output_type": "stream",
     "text": [
      "root\n",
      " |-- order_number: string (nullable = true)\n",
      " |-- order_date: timestamp (nullable = true)\n",
      " |-- ship_date: string (nullable = true)\n",
      " |-- order_quantity: integer (nullable = true)\n",
      " |-- unit_price: double (nullable = true)\n",
      " |-- unit_discount: double (nullable = true)\n",
      " |-- sales_amount: float (nullable = true)\n",
      " |-- payment_date: timestamp (nullable = true)\n",
      " |-- product_key: string (nullable = true)\n",
      " |-- product_name: string (nullable = true)\n",
      " |-- product_category: string (nullable = true)\n",
      " |-- price: double (nullable = true)\n",
      " |-- weight: double (nullable = true)\n",
      " |-- day: integer (nullable = true)\n",
      " |-- month: integer (nullable = true)\n",
      " |-- year: integer (nullable = true)\n",
      " |-- quarter: integer (nullable = true)\n",
      " |-- day_of_week: string (nullable = true)\n",
      " |-- day_of_week_number: integer (nullable = true)\n",
      " |-- shop_discount_code: string (nullable = true)\n",
      " |-- shopee_discount_code: string (nullable = true)\n",
      " |-- tracking_code: string (nullable = true)\n",
      " |-- shipping_company: string (nullable = true)\n",
      " |-- customer_name: string (nullable = true)\n",
      "\n"
     ]
    }
   ],
   "source": [
    "spark.sql(f\"USE bronze_{username}\")\n",
    "table = f\"bronze_{username}.shopee_sales\"\n",
    "query = f\"\"\"\n",
    "    SELECT \n",
    "        order_number,\n",
    "        order_date,\n",
    "        ship_date,\n",
    "        ordered_quantity as order_quantity,\n",
    "        unit_price,\n",
    "        unit_discount,\n",
    "        CAST(total_order_price AS FLOAT) as sales_amount,\n",
    "        payment_date,\n",
    "        product_key,\n",
    "        product_name,\n",
    "        category_name as product_category,\n",
    "        unit_price as price,\n",
    "        weight,\n",
    "        DAY(order_date) AS day,\n",
    "        MONTH(order_date) AS month,\n",
    "        YEAR(order_date) as year,\n",
    "        QUARTER(order_date) as quarter,\n",
    "        DATE_FORMAT(order_date, 'EEEE') AS day_of_week,\n",
    "        DAYOFWEEK(order_date) AS day_of_week_number,\n",
    "        shop_discount_code,\n",
    "        shopee_discount_code,\n",
    "        tracking_code,\n",
    "        shipping_company,\n",
    "        buyer_name as customer_name\n",
    "    FROM {table}\n",
    "\"\"\"\n",
    "\n",
    "sql_transformed_df = spark.sql(query)\n",
    "\n",
    "sql_transformed_df.printSchema()"
   ]
  },
  {
   "cell_type": "code",
   "execution_count": 14,
   "id": "5dfc809a-524f-414e-9185-f67e889db7d9",
   "metadata": {},
   "outputs": [
    {
     "data": {
      "text/html": [
       "<style>pre { white-space: pre !important; }</style>"
      ],
      "text/plain": [
       "<IPython.core.display.HTML object>"
      ]
     },
     "metadata": {},
     "output_type": "display_data"
    },
    {
     "name": "stderr",
     "output_type": "stream",
     "text": [
      "                                                                                \r"
     ]
    },
    {
     "name": "stdout",
     "output_type": "stream",
     "text": [
      "+--------------------+-------------------+----------+--------------+----------+-------------+------------+------------+-----------+--------------------+----------------+--------+------+---+-----+----+-------+-----------+------------------+------------------+--------------------+-------------+----------------+--------------------+\n",
      "|        order_number|         order_date| ship_date|order_quantity|unit_price|unit_discount|sales_amount|payment_date|product_key|        product_name|product_category|   price|weight|day|month|year|quarter|day_of_week|day_of_week_number|shop_discount_code|shopee_discount_code|tracking_code|shipping_company|       customer_name|\n",
      "+--------------------+-------------------+----------+--------------+----------+-------------+------------+------------+-----------+--------------------+----------------+--------+------+---+-----+----+-------+-----------+------------------+------------------+--------------------+-------------+----------------+--------------------+\n",
      "|SO20211225/SHOPPE...|2022-01-01 00:00:00|2021-12-26|          null|  363000.0|         null|        null|        null|     SKU-92|           Miến khác|            null|363000.0|  50.0|  1|    1|2022|      1|   Saturday|                 7|              null|                null|         null|            null|     Nguyễn Thúy Nga|\n",
      "|SO20211225/SHOPPE...|2022-01-02 00:00:00|2021-12-30|          null|   12500.0|         null|        null|        null|      SKU-1|             Cháo ly|            null| 12500.0|  43.0|  2|    1|2022|      1|     Sunday|                 1|              null|                null|         null|            null|Nguyễn Ngọc Nam P...|\n",
      "|SO20211226/SHOPPE...|2022-01-02 00:00:00|2022-01-01|          null|   82000.0|         null|        null|        null|    SKU-106|Túi đựng rác size...|            null| 82000.0|  null|  2|    1|2022|      1|     Sunday|                 1|              null|                null|         null|            null|    Nguyễn Minh Châu|\n",
      "|SO20211227/SHOPPE...|2022-01-03 00:00:00|2021-12-30|          null|   12500.0|         null|        null|        null|      SKU-1|             Cháo ly|            null| 12500.0|  43.0|  3|    1|2022|      1|     Monday|                 2|              null|                null|         null|            null|  Phạm Thị Thùy Dung|\n",
      "|SO20211228/SHOPPE-24|2022-01-04 00:00:00|2021-12-30|          null|   18500.0|         null|        null|        null|     SKU-21|         Bột rau câu|            null| 18500.0| 106.0|  4|    1|2022|      1|    Tuesday|                 3|              null|                null|         null|            null|           Lê Nguyên|\n",
      "|SO20211229/SHOPPE-53|2022-01-04 00:00:00|2022-01-01|          null|   12500.0|         null|        null|        null|      SKU-1|             Cháo ly|            null| 12500.0|  43.0|  4|    1|2022|      1|    Tuesday|                 3|              null|                null|         null|            null|    Đỗ Phạm Hiền Anh|\n",
      "|SO20211229/SHOPPE-88|2022-01-03 00:00:00|2022-01-01|          null|  250000.0|         null|        null|        null|     SKU-94|       Miến lẩu thái|            null|250000.0|  60.0|  3|    1|2022|      1|     Monday|                 2|              null|                null|         null|            null|  Ngô Phạm Tiến Dũng|\n",
      "|SO20211230/SHOPPE-79|2022-01-04 00:00:00|2022-01-02|          null|   19000.0|         null|        null|        null|     SKU-16|   Bột chiên đa dụng|            null| 19000.0| 340.0|  4|    1|2022|      1|    Tuesday|                 3|              null|                null|         null|            null|      Bùi Khánh Linh|\n",
      "|SO20211231/SHOPPE...|2022-01-06 00:00:00|2022-01-02|          null|  360000.0|         null|        null|        null|     SKU-95|        Cafe đen lon|            null|360000.0|  null|  6|    1|2022|      1|   Thursday|                 5|              null|                null|         null|            null| Huỳnh Ngọc Minh Anh|\n",
      "|SO20211231/SHOPPE...|2022-01-06 00:00:00|2022-01-02|          null|   75000.0|         null|        null|        null|     SKU-67|        Nắp chắn dầu|            null| 75000.0|  null|  6|    1|2022|      1|   Thursday|                 5|              null|                null|         null|            null|          Trần Vũ Hà|\n",
      "+--------------------+-------------------+----------+--------------+----------+-------------+------------+------------+-----------+--------------------+----------------+--------+------+---+-----+----+-------+-----------+------------------+------------------+--------------------+-------------+----------------+--------------------+\n",
      "only showing top 10 rows\n",
      "\n"
     ]
    }
   ],
   "source": [
    "from IPython.core.display import HTML\n",
    "display(HTML(\"<style>pre { white-space: pre !important; }</style>\"))\n",
    "# sql_transformed_df.toPandas().head(5)\n",
    "sql_transformed_df.show(10)"
   ]
  },
  {
   "cell_type": "code",
   "execution_count": 16,
   "id": "922dd36d-4f04-4fdc-81e9-dfaab11437fb",
   "metadata": {},
   "outputs": [
    {
     "name": "stderr",
     "output_type": "stream",
     "text": [
      "                                                                                \r"
     ]
    },
    {
     "name": "stdout",
     "output_type": "stream",
     "text": [
      "+--------------------+-------------------+----------+--------------+----------+-------------+------------+------------+-----------+--------------------+----------------+--------+------+---+-----+----+-------+-----------+------------------+------------------+--------------------+-------------+----------------+--------------------+\n",
      "|        order_number|         order_date| ship_date|order_quantity|unit_price|unit_discount|sales_amount|payment_date|product_key|        product_name|product_category|   price|weight|day|month|year|quarter|day_of_week|day_of_week_number|shop_discount_code|shopee_discount_code|tracking_code|shipping_company|       customer_name|\n",
      "+--------------------+-------------------+----------+--------------+----------+-------------+------------+------------+-----------+--------------------+----------------+--------+------+---+-----+----+-------+-----------+------------------+------------------+--------------------+-------------+----------------+--------------------+\n",
      "|SO20210101/SHOPPE-10|2021-01-08 00:00:00|2021-01-07|          null|   85000.0|         null|        null|        null|    SKU-108|       Xay tiêu, tỏi|            null| 85000.0|  null|  8|    1|2021|      1|     Friday|                 6|              null|                null|         null|            null|Nguyễn Vĩnh Quốc Hào|\n",
      "|SO20210101/SHOPPE...|2021-01-09 00:00:00|2021-01-06|          null|   85000.0|         null|        null|        null|    SKU-108|       Xay tiêu, tỏi|            null| 85000.0|  null|  9|    1|2021|      1|   Saturday|                 7|              null|                null|         null|            null|      Trần Kim Khánh|\n",
      "|SO20210101/SHOPPE...|2021-01-08 00:00:00|2021-01-07|          null|  225000.0|         null|        null|        null|     SKU-96|        Giò Lụa Ngon|            null|225000.0|   1.0|  8|    1|2021|      1|     Friday|                 6|              null|                null|         null|            null| Hà Nguyễn Hồng Ngọc|\n",
      "|SO20210101/SHOPPE...|2021-01-08 00:00:00|2021-01-02|          null|  270000.0|         null|        null|        null|     SKU-97|      Cafe sữa lon  |            null|270000.0|  null|  8|    1|2021|      1|     Friday|                 6|              null|                null|         null|            null|  Đỗ Nguyễn Khánh Ly|\n",
      "|SO20210101/SHOPPE...|2021-01-07 00:00:00|2021-01-05|          null|   85000.0|         null|        null|        null|    SKU-108|       Xay tiêu, tỏi|            null| 85000.0|  null|  7|    1|2021|      1|   Thursday|                 5|              null|                null|         null|            null|     Ngụy Đình Giang|\n",
      "|SO20210101/SHOPPE...|2021-01-08 00:00:00|2021-01-05|          null|  215000.0|         null|        null|        null|     SKU-93|             Bún mắm|            null|215000.0|  60.0|  8|    1|2021|      1|     Friday|                 6|              null|                null|         null|            null|   Nguyễn Trường Sơn|\n",
      "|SO20210101/SHOPPE...|2021-01-10 00:00:00|2021-01-05|          null|   18500.0|         null|        null|        null|     SKU-21|         Bột rau câu|            null| 18500.0| 106.0| 10|    1|2021|      1|     Sunday|                 1|              null|                null|         null|            null|   Trần Lê Nam Khánh|\n",
      "|SO20210101/SHOPPE...|2021-01-05 00:00:00|2021-01-03|          null|   17500.0|         null|        null|        null|    SKU-152|  Muối hồng Himalaya|            null| 17500.0| 200.0|  5|    1|2021|      1|    Tuesday|                 3|              null|                null|         null|            null|   Phan Thị Ánh Hồng|\n",
      "|SO20210101/SHOPPE...|2021-01-06 00:00:00|2021-01-04|          null|  550000.0|         null|        null|        null|     SKU-84|Thịt Càng Cua Biể...|            null|550000.0| 454.0|  6|    1|2021|      1|  Wednesday|                 4|              null|                null|         null|            null|     Dương Xuân Sang|\n",
      "|SO20210101/SHOPPE...|2021-01-09 00:00:00|2021-01-03|          null|  215000.0|         null|        null|        null|     SKU-93|             Bún mắm|            null|215000.0|  60.0|  9|    1|2021|      1|   Saturday|                 7|              null|                null|         null|            null|  Phan Thị Ngọc Thảo|\n",
      "+--------------------+-------------------+----------+--------------+----------+-------------+------------+------------+-----------+--------------------+----------------+--------+------+---+-----+----+-------+-----------+------------------+------------------+--------------------+-------------+----------------+--------------------+\n",
      "only showing top 10 rows\n",
      "\n"
     ]
    },
    {
     "name": "stderr",
     "output_type": "stream",
     "text": [
      "                                                                                \r"
     ]
    }
   ],
   "source": [
    "from pyspark.sql import DataFrame, Window\n",
    "from pyspark.sql.functions import col, when, last, desc, dense_rank, to_date, date_format\n",
    "cleaned_df = sql_transformed_df \\\n",
    "            .filter(col(\"order_number\").isNotNull() & col(\"product_key\").isNotNull() & col(\"order_date\").isNotNull()) \\\n",
    "            .withColumn(\"product_name\", when(col(\"product_name\").isNull(), \n",
    "                                            last(\"product_name\", ignorenulls=True)\n",
    "                                            .over(Window.partitionBy(\"product_key\").orderBy(\"order_date\")))\n",
    "                        .otherwise(col(\"product_name\"))) \\\n",
    "            .na.drop(subset=[\"order_number\", \"product_key\", \"order_date\", \"product_name\"]) \\\n",
    "            .withColumn(\"rank\", dense_rank().over(Window.partitionBy(\"order_number\", \"product_key\").orderBy(desc(\"order_date\")))) \\\n",
    "            .filter(col(\"rank\") == 1) \\\n",
    "            .drop(\"rank\")\n",
    "cleaned_df.show(10)\n",
    "null_core_columns = cleaned_df.filter(col(\"order_number\").isNull() | col(\"product_key\").isNull() | col(\"order_date\").isNull() | col(\"product_name\").isNull())\n",
    "    \n",
    "    # Count the number of rows with null core columns\n",
    "null_core_count = null_core_columns.count()"
   ]
  },
  {
   "cell_type": "code",
   "execution_count": 17,
   "id": "2daf489e-3b73-4f61-b9f6-a7f36616388a",
   "metadata": {},
   "outputs": [
    {
     "name": "stdout",
     "output_type": "stream",
     "text": [
      "number of rows with null core columns: 0\n"
     ]
    }
   ],
   "source": [
    "print(\"number of rows with null core columns:\", null_core_count)"
   ]
  },
  {
   "cell_type": "code",
   "execution_count": 19,
   "id": "b89c6b21-4dbf-46eb-aca7-1ad81904c5cd",
   "metadata": {},
   "outputs": [
    {
     "name": "stdout",
     "output_type": "stream",
     "text": [
      "root\n",
      " |-- order_number: string (nullable = true)\n",
      " |-- order_date: timestamp (nullable = true)\n",
      " |-- ship_date: string (nullable = true)\n",
      " |-- order_quantity: integer (nullable = true)\n",
      " |-- unit_price: double (nullable = true)\n",
      " |-- unit_discount: double (nullable = true)\n",
      " |-- sales_amount: float (nullable = true)\n",
      " |-- payment_date: timestamp (nullable = true)\n",
      " |-- product_key: string (nullable = true)\n",
      " |-- product_name: string (nullable = true)\n",
      " |-- product_category: string (nullable = true)\n",
      " |-- price: double (nullable = true)\n",
      " |-- weight: double (nullable = true)\n",
      " |-- day: integer (nullable = true)\n",
      " |-- month: integer (nullable = true)\n",
      " |-- year: integer (nullable = true)\n",
      " |-- quarter: integer (nullable = true)\n",
      " |-- day_of_week: string (nullable = true)\n",
      " |-- day_of_week_number: integer (nullable = true)\n",
      " |-- shop_discount_code: string (nullable = true)\n",
      " |-- shopee_discount_code: string (nullable = true)\n",
      " |-- tracking_code: string (nullable = true)\n",
      " |-- shipping_company: string (nullable = true)\n",
      " |-- customer_name: string (nullable = true)\n",
      "\n"
     ]
    }
   ],
   "source": [
    "cleaned_df.printSchema()"
   ]
  },
  {
   "cell_type": "code",
   "execution_count": 20,
   "id": "0bb64628-5936-4db9-af62-c6727858ea93",
   "metadata": {},
   "outputs": [
    {
     "name": "stderr",
     "output_type": "stream",
     "text": [
      "[Stage 47:===========>                                              (1 + 4) / 5]\r"
     ]
    },
    {
     "name": "stdout",
     "output_type": "stream",
     "text": [
      "+--------------------+----------+----------+--------------+----------+-------------+------------+------------+-----------+--------------------+----------------+--------+------+---+-----+----+-------+-----------+------------------+------------------+--------------------+-------------+----------------+--------------------+\n",
      "|        order_number|order_date| ship_date|order_quantity|unit_price|unit_discount|sales_amount|payment_date|product_key|        product_name|product_category|   price|weight|day|month|year|quarter|day_of_week|day_of_week_number|shop_discount_code|shopee_discount_code|tracking_code|shipping_company|       customer_name|\n",
      "+--------------------+----------+----------+--------------+----------+-------------+------------+------------+-----------+--------------------+----------------+--------+------+---+-----+----+-------+-----------+------------------+------------------+--------------------+-------------+----------------+--------------------+\n",
      "|SO20210101/SHOPPE-10|2021-01-08|2021-01-07|             1|   85000.0|          0.0|     85000.0|        null|    SKU-108|       Xay tiêu, tỏi|            null| 85000.0|   0.0|  8|    1|2021|      1|     Friday|                 6|              null|                null|         null|            null|Nguyễn Vĩnh Quốc Hào|\n",
      "|SO20210101/SHOPPE...|2021-01-09|2021-01-06|             1|   85000.0|          0.0|     85000.0|        null|    SKU-108|       Xay tiêu, tỏi|            null| 85000.0|   0.0|  9|    1|2021|      1|   Saturday|                 7|              null|                null|         null|            null|      Trần Kim Khánh|\n",
      "|SO20210101/SHOPPE...|2021-01-08|2021-01-07|             1|  225000.0|          0.0|    225000.0|        null|     SKU-96|        Giò Lụa Ngon|            null|225000.0|   1.0|  8|    1|2021|      1|     Friday|                 6|              null|                null|         null|            null| Hà Nguyễn Hồng Ngọc|\n",
      "|SO20210101/SHOPPE...|2021-01-08|2021-01-02|             1|  270000.0|          0.0|    270000.0|        null|     SKU-97|      Cafe sữa lon  |            null|270000.0|   0.0|  8|    1|2021|      1|     Friday|                 6|              null|                null|         null|            null|  Đỗ Nguyễn Khánh Ly|\n",
      "|SO20210101/SHOPPE...|2021-01-07|2021-01-05|             1|   85000.0|          0.0|     85000.0|        null|    SKU-108|       Xay tiêu, tỏi|            null| 85000.0|   0.0|  7|    1|2021|      1|   Thursday|                 5|              null|                null|         null|            null|     Ngụy Đình Giang|\n",
      "|SO20210101/SHOPPE...|2021-01-08|2021-01-05|             1|  215000.0|          0.0|    215000.0|        null|     SKU-93|             Bún mắm|            null|215000.0|  60.0|  8|    1|2021|      1|     Friday|                 6|              null|                null|         null|            null|   Nguyễn Trường Sơn|\n",
      "|SO20210101/SHOPPE...|2021-01-10|2021-01-05|             1|   18500.0|          0.0|     18500.0|        null|     SKU-21|         Bột rau câu|            null| 18500.0| 106.0| 10|    1|2021|      1|     Sunday|                 1|              null|                null|         null|            null|   Trần Lê Nam Khánh|\n",
      "|SO20210101/SHOPPE...|2021-01-05|2021-01-03|             1|   17500.0|          0.0|     17500.0|        null|    SKU-152|  Muối hồng Himalaya|            null| 17500.0| 200.0|  5|    1|2021|      1|    Tuesday|                 3|              null|                null|         null|            null|   Phan Thị Ánh Hồng|\n",
      "|SO20210101/SHOPPE...|2021-01-06|2021-01-04|             1|  550000.0|          0.0|    550000.0|        null|     SKU-84|Thịt Càng Cua Biể...|            null|550000.0| 454.0|  6|    1|2021|      1|  Wednesday|                 4|              null|                null|         null|            null|     Dương Xuân Sang|\n",
      "|SO20210101/SHOPPE...|2021-01-09|2021-01-03|             1|  215000.0|          0.0|    215000.0|        null|     SKU-93|             Bún mắm|            null|215000.0|  60.0|  9|    1|2021|      1|   Saturday|                 7|              null|                null|         null|            null|  Phan Thị Ngọc Thảo|\n",
      "|SO20210101/SHOPPE...|2021-01-03|2021-01-02|             1|   85000.0|          0.0|     85000.0|        null|    SKU-108|       Xay tiêu, tỏi|            null| 85000.0|   0.0|  3|    1|2021|      1|     Sunday|                 1|              null|                null|         null|            null|        Lê Văn Thành|\n",
      "|SO20210101/SHOPPE...|2021-01-06|2021-01-04|             1|   80000.0|          0.0|     80000.0|        null|    SKU-114|   Kẹp gắp, khui hộp|            null| 80000.0|   0.0|  6|    1|2021|      1|  Wednesday|                 4|              null|                null|         null|            null|       Ngô Thu Huyền|\n",
      "|SO20210101/SHOPPE...|2021-01-09|2021-01-04|             1|  225000.0|          0.0|    225000.0|        null|     SKU-96|        Giò Lụa Ngon|            null|225000.0|   1.0|  9|    1|2021|      1|   Saturday|                 7|              null|                null|         null|            null| Nguyễn Trường Giang|\n",
      "|SO20210101/SHOPPE...|2021-01-07|2021-01-06|             1|   85000.0|          0.0|     85000.0|        null|    SKU-108|       Xay tiêu, tỏi|            null| 85000.0|   0.0|  7|    1|2021|      1|   Thursday|                 5|              null|                null|         null|            null|        Bùi Tấn Phát|\n",
      "|SO20210101/SHOPPE...|2021-01-07|2021-01-03|             1|  360000.0|          0.0|    360000.0|        null|     SKU-28|     Cháo đóng thùng|            null|360000.0|  70.0|  7|    1|2021|      1|   Thursday|                 5|              null|                null|         null|            null|       Trần Ngọc Ánh|\n",
      "|SO20210101/SHOPPE...|2021-01-07|2021-01-02|             1|   39000.0|          0.0|     39000.0|        null|     SKU-75| Rau Sắc Màu Hỗn Hợp|            null| 39000.0| 400.0|  7|    1|2021|      1|   Thursday|                 5|              null|                null|         null|            null|     Biện Thị Mai Vy|\n",
      "|SO20210101/SHOPPE...|2021-01-06|2021-01-05|             1|  550000.0|          0.0|    550000.0|        null|     SKU-84|Thịt Càng Cua Biể...|            null|550000.0| 454.0|  6|    1|2021|      1|  Wednesday|                 4|              null|                null|         null|            null|         Lê Đỗ Hà An|\n",
      "|SO20210101/SHOPPE...|2021-01-10|2021-01-06|             1|   82000.0|          0.0|     82000.0|        null|    SKU-106|Túi đựng rác size...|            null| 82000.0|   0.0| 10|    1|2021|      1|     Sunday|                 1|              null|                null|         null|            null|        Chu Hoài Anh|\n",
      "|SO20210101/SHOPPE...|2021-01-04|2021-01-02|             1|   85000.0|          0.0|     85000.0|        null|    SKU-108|       Xay tiêu, tỏi|            null| 85000.0|   0.0|  4|    1|2021|      1|     Monday|                 2|              null|                null|         null|            null|       Phạm Minh Đức|\n",
      "| SO20210101/SHOPPE-2|2021-01-10|2021-01-07|             1|  215000.0|          0.0|    215000.0|        null|     SKU-93|             Bún mắm|            null|215000.0|  60.0| 10|    1|2021|      1|     Sunday|                 1|              null|                null|         null|            null|Nguyễn Thị Phương...|\n",
      "+--------------------+----------+----------+--------------+----------+-------------+------------+------------+-----------+--------------------+----------------+--------+------+---+-----+----+-------+-----------+------------------+------------------+--------------------+-------------+----------------+--------------------+\n",
      "only showing top 20 rows\n",
      "\n"
     ]
    },
    {
     "name": "stderr",
     "output_type": "stream",
     "text": [
      "                                                                                \r"
     ]
    }
   ],
   "source": [
    "numeric_columns = ['unit_price', 'unit_discount', 'sales_amount', 'price', 'weight']\n",
    "for col_name in numeric_columns:\n",
    "    cleaned_df = cleaned_df.withColumn(col_name, when(col(col_name).isNull() | (col(col_name) < 0), 0).otherwise(col(col_name)))\n",
    "\n",
    "cleaned_df = cleaned_df.withColumn('order_quantity', when(col('order_quantity').isNull() | (col('order_quantity') == 0), 1).otherwise(col('order_quantity')))\n",
    "\n",
    "# Replace null or 0 values in sales_amount with (unit_price * ordered_quantity) - unit_discount\n",
    "cleaned_df = cleaned_df.withColumn('sales_amount', when((col('sales_amount').isNull()) | (col('sales_amount') == 0), (col('unit_price') * col('order_quantity')) - col('unit_discount')).otherwise(col('sales_amount')))\n",
    "    \n",
    "# Format date columns to 'yyyy-MM-dd'\n",
    "date_columns = ['order_date', 'ship_date', 'payment_date']\n",
    "for col_name in date_columns:\n",
    "    cleaned_df = cleaned_df.withColumn(col_name, to_date(col(col_name), 'yyyy-MM-dd').cast('date'))\n",
    "\n",
    "# Format order_date to 'yyyy-MM-dd'\n",
    "cleaned_df = cleaned_df.withColumn('order_date', date_format(col('order_date'), 'yyyy-MM-dd'))\n",
    "\n",
    "cleaned_df.show()"
   ]
  },
  {
   "cell_type": "code",
   "execution_count": null,
   "id": "6ca52b5c-e62b-4c0f-81b5-d475fa44b511",
   "metadata": {},
   "outputs": [],
   "source": []
  }
 ],
 "metadata": {
  "kernelspec": {
   "display_name": "Python 3 (ipykernel)",
   "language": "python",
   "name": "python3"
  },
  "language_info": {
   "codemirror_mode": {
    "name": "ipython",
    "version": 3
   },
   "file_extension": ".py",
   "mimetype": "text/x-python",
   "name": "python",
   "nbconvert_exporter": "python",
   "pygments_lexer": "ipython3",
   "version": "3.10.14"
  }
 },
 "nbformat": 4,
 "nbformat_minor": 5
}
