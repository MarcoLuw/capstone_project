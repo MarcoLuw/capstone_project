{
 "cells": [
  {
   "cell_type": "code",
   "execution_count": 22,
   "id": "293ef7fd-84ae-4f4a-92c9-aaeab4982ae4",
   "metadata": {},
   "outputs": [],
   "source": [
    "import sys\n",
    "\n",
    "from delta.tables import DeltaTable\n",
    "from pyspark.sql import SparkSession\n",
    "from minio import Minio\n",
    "from utils.common import get_spark_session, get_minio_client\n",
    "from pyspark.sql.functions import col, when, last, desc, dense_rank, to_date, date_format, lit\n",
    "from utils.bronze import Bronze\n",
    "\n",
    "username = 'kayden'\n",
    "\n",
    "spark = get_spark_session(\n",
    "        f\"{username}_ETL\",\n",
    "        username,\n",
    "    )\n",
    "\n",
    "log_path = f\"s3a://{username}/logging\"\n",
    "\n",
    "spark._jsc.hadoopConfiguration().set(\"log4j.appender.file\", \"org.apache.log4j.FileAppender\")\n",
    "spark._jsc.hadoopConfiguration().set(\"log4j.appender.file.File\", log_path)\n",
    "spark._jsc.hadoopConfiguration().set(\"log4j.appender.file.layout\", \"org.apache.log4j.PatternLayout\")\n",
    "spark._jsc.hadoopConfiguration().set(\"log4j.appender.file.layout.ConversionPattern\", \"%d{yyyy-MM-dd HH:mm:ss} %-5p %c{1}:%L - %m%n\")\n",
    "\n",
    "    # mc = get_minio_client(username)\n",
    "MINIO_ENDPOINT = \"minio:9000/\"\n",
    "MINIO_ACCESS_KEY = username\n",
    "MINIO_SECRET_KEY = \"password\"\n",
    "\n",
    "mc = Minio(\n",
    "        endpoint=MINIO_ENDPOINT,\n",
    "        access_key=MINIO_ACCESS_KEY,\n",
    "        secret_key=MINIO_SECRET_KEY,\n",
    "        secure=False\n",
    "    )"
   ]
  },
  {
   "cell_type": "code",
   "execution_count": 11,
   "id": "a7905e1a-a6e2-4a9e-bca5-66c92ccaf486",
   "metadata": {},
   "outputs": [
    {
     "name": "stderr",
     "output_type": "stream",
     "text": [
      "24/05/31 08:08:32 WARN DeltaLog: Change in the table id detected while updating snapshot. \n",
      "Previous snapshot = Snapshot(path=s3a://kayden/bronze/shopee_sales/_delta_log, version=13, metadata=Metadata(bae77174-2003-4b8c-90c2-fccbe889fdf2,null,null,Format(parquet,Map()),{\"type\":\"struct\",\"fields\":[{\"name\":\"order_number\",\"type\":\"string\",\"nullable\":true,\"metadata\":{}},{\"name\":\"order_date\",\"type\":\"timestamp\",\"nullable\":true,\"metadata\":{}},{\"name\":\"order_status\",\"type\":\"string\",\"nullable\":true,\"metadata\":{}},{\"name\":\"tracking_code\",\"type\":\"string\",\"nullable\":true,\"metadata\":{}},{\"name\":\"shipping_company\",\"type\":\"string\",\"nullable\":true,\"metadata\":{}},{\"name\":\"delivery_method\",\"type\":\"string\",\"nullable\":true,\"metadata\":{}},{\"name\":\"order_type\",\"type\":\"string\",\"nullable\":true,\"metadata\":{}},{\"name\":\"expected_delivery_date\",\"type\":\"timestamp\",\"nullable\":true,\"metadata\":{}},{\"name\":\"ship_date\",\"type\":\"string\",\"nullable\":true,\"metadata\":{}},{\"name\":\"product_key\",\"type\":\"string\",\"nullable\":true,\"metadata\":{}},{\"name\":\"product_name\",\"type\":\"string\",\"nullable\":true,\"metadata\":{}},{\"name\":\"weight\",\"type\":\"double\",\"nullable\":true,\"metadata\":{}},{\"name\":\"category_sku\",\"type\":\"string\",\"nullable\":true,\"metadata\":{}},{\"name\":\"category_name\",\"type\":\"string\",\"nullable\":true,\"metadata\":{}},{\"name\":\"ordered_quantity\",\"type\":\"integer\",\"nullable\":true,\"metadata\":{}},{\"name\":\"unit_price\",\"type\":\"double\",\"nullable\":true,\"metadata\":{}},{\"name\":\"seller_discount\",\"type\":\"double\",\"nullable\":true,\"metadata\":{}},{\"name\":\"shopee_discount\",\"type\":\"double\",\"nullable\":true,\"metadata\":{}},{\"name\":\"unit_discount\",\"type\":\"double\",\"nullable\":true,\"metadata\":{}},{\"name\":\"returned_quantity\",\"type\":\"integer\",\"nullable\":true,\"metadata\":{}},{\"name\":\"total_product_price\",\"type\":\"double\",\"nullable\":true,\"metadata\":{}},{\"name\":\"total_order_price\",\"type\":\"double\",\"nullable\":true,\"metadata\":{}},{\"name\":\"shop_discount_code\",\"type\":\"string\",\"nullable\":true,\"metadata\":{}},{\"name\":\"shopee_discount_code\",\"type\":\"string\",\"nullable\":true,\"metadata\":{}},{\"name\":\"estimated_shipping_fee\",\"type\":\"double\",\"nullable\":true,\"metadata\":{}},{\"name\":\"shipping_fee_paid_by_buyer\",\"type\":\"double\",\"nullable\":true,\"metadata\":{}},{\"name\":\"shopee_sponsored_shipping_fee\",\"type\":\"double\",\"nullable\":true,\"metadata\":{}},{\"name\":\"return_fee\",\"type\":\"double\",\"nullable\":true,\"metadata\":{}},{\"name\":\"payment_date\",\"type\":\"timestamp\",\"nullable\":true,\"metadata\":{}},{\"name\":\"payment_method\",\"type\":\"string\",\"nullable\":true,\"metadata\":{}},{\"name\":\"buyer_name\",\"type\":\"string\",\"nullable\":true,\"metadata\":{}},{\"name\":\"delivery_address\",\"type\":\"string\",\"nullable\":true,\"metadata\":{}},{\"name\":\"city\",\"type\":\"string\",\"nullable\":true,\"metadata\":{}},{\"name\":\"district\",\"type\":\"string\",\"nullable\":true,\"metadata\":{}},{\"name\":\"ward\",\"type\":\"string\",\"nullable\":true,\"metadata\":{}},{\"name\":\"year\",\"type\":\"integer\",\"nullable\":true,\"metadata\":{}},{\"name\":\"month\",\"type\":\"integer\",\"nullable\":true,\"metadata\":{}}]},List(year, month),Map(),Some(1717060388160)), logSegment=LogSegment(s3a://kayden/bronze/shopee_sales/_delta_log,13,WrappedArray(S3AFileStatus{path=s3a://kayden/bronze/shopee_sales/_delta_log/00000000000000000011.json; isDirectory=false; length=2674; replication=1; blocksize=33554432; modification_time=1717104644873; access_time=0; owner=root; group=root; permission=rw-rw-rw-; isSymlink=false; hasAcl=false; isEncrypted=true; isErasureCoded=false} isEmptyDirectory=FALSE eTag=20104e0808afdfa24ab50fa4ba8fe1f2 versionId=null, S3AFileStatus{path=s3a://kayden/bronze/shopee_sales/_delta_log/00000000000000000012.json; isDirectory=false; length=2680; replication=1; blocksize=33554432; modification_time=1717104657924; access_time=0; owner=root; group=root; permission=rw-rw-rw-; isSymlink=false; hasAcl=false; isEncrypted=true; isErasureCoded=false} isEmptyDirectory=FALSE eTag=434fb3bf656ce2a3f256d76a028ee46c versionId=null, S3AFileStatus{path=s3a://kayden/bronze/shopee_sales/_delta_log/00000000000000000013.json; isDirectory=false; length=2631; replication=1; blocksize=33554432; modification_time=1717104666881; access_time=0; owner=root; group=root; permission=rw-rw-rw-; isSymlink=false; hasAcl=false; isEncrypted=true; isErasureCoded=false} isEmptyDirectory=FALSE eTag=0bea59a229126683126245428a55cfc2 versionId=null),Some(PreloadedCheckpointProvider(WrappedArray(S3AFileStatus{path=s3a://kayden/bronze/shopee_sales/_delta_log/00000000000000000010.checkpoint.parquet; isDirectory=false; length=22284; replication=1; blocksize=33554432; modification_time=1717104636305; access_time=0; owner=root; group=root; permission=rw-rw-rw-; isSymlink=false; hasAcl=false; isEncrypted=true; isErasureCoded=false} isEmptyDirectory=FALSE eTag=f6c1ea15e0dca9a23b7d553141fcd3ee versionId=null),Some(CheckpointMetaData(10,13,None,Some(22284),Some(11),Some(StructType(StructField(txn,StructType(StructField(appId,StringType,true),StructField(version,LongType,true),StructField(lastUpdated,LongType,true)),true),StructField(add,StructType(StructField(path,StringType,true),StructField(partitionValues,MapType(StringType,StringType,true),true),StructField(size,LongType,true),StructField(modificationTime,LongType,true),StructField(dataChange,BooleanType,true),StructField(tags,MapType(StringType,StringType,true),true),StructField(deletionVector,StructType(StructField(storageType,StringType,true),StructField(pathOrInlineDv,StringType,true),StructField(offset,IntegerType,true),StructField(sizeInBytes,IntegerType,true),StructField(cardinality,LongType,true),StructField(maxRowIndex,LongType,true)),true),StructField(stats,StringType,true),StructField(partitionValues_parsed,StructType(StructField(year,IntegerType,true),StructField(month,IntegerType,true)),true)),true),StructField(remove,StructType(StructField(path,StringType,true),StructField(deletionTimestamp,LongType,true),StructField(dataChange,BooleanType,true),StructField(extendedFileMetadata,BooleanType,true),StructField(partitionValues,MapType(StringType,StringType,true),true),StructField(size,LongType,true),StructField(deletionVector,StructType(StructField(storageType,StringType,true),StructField(pathOrInlineDv,StringType,true),StructField(offset,IntegerType,true),StructField(sizeInBytes,IntegerType,true),StructField(cardinality,LongType,true),StructField(maxRowIndex,LongType,true)),true)),true),StructField(metaData,StructType(StructField(id,StringType,true),StructField(name,StringType,true),StructField(description,StringType,true),StructField(format,StructType(StructField(provider,StringType,true),StructField(options,MapType(StringType,StringType,true),true)),true),StructField(schemaString,StringType,true),StructField(partitionColumns,ArrayType(StringType,true),true),StructField(configuration,MapType(StringType,StringType,true),true),StructField(createdTime,LongType,true)),true),StructField(protocol,StructType(StructField(minReaderVersion,IntegerType,true),StructField(minWriterVersion,IntegerType,true),StructField(readerFeatures,ArrayType(StringType,true),true),StructField(writerFeatures,ArrayType(StringType,true),true)),true))),Some(d785485c2fe21cae36fb3d523773eaa9))))),1717104666881), checksumOpt=None)\n",
      "New snapshot = Snapshot(path=s3a://kayden/bronze/shopee_sales/_delta_log, version=12, metadata=Metadata(3ef737ad-c755-4a71-b1ab-2f70d07b7c24,null,null,Format(parquet,Map()),{\"type\":\"struct\",\"fields\":[{\"name\":\"order_number\",\"type\":\"string\",\"nullable\":true,\"metadata\":{}},{\"name\":\"order_date\",\"type\":\"date\",\"nullable\":true,\"metadata\":{}},{\"name\":\"order_status\",\"type\":\"string\",\"nullable\":true,\"metadata\":{}},{\"name\":\"tracking_code\",\"type\":\"string\",\"nullable\":true,\"metadata\":{}},{\"name\":\"shipping_company\",\"type\":\"string\",\"nullable\":true,\"metadata\":{}},{\"name\":\"delivery_method\",\"type\":\"string\",\"nullable\":true,\"metadata\":{}},{\"name\":\"order_type\",\"type\":\"string\",\"nullable\":true,\"metadata\":{}},{\"name\":\"expected_delivery_date\",\"type\":\"date\",\"nullable\":true,\"metadata\":{}},{\"name\":\"ship_date\",\"type\":\"date\",\"nullable\":true,\"metadata\":{}},{\"name\":\"product_key\",\"type\":\"string\",\"nullable\":true,\"metadata\":{}},{\"name\":\"product_name\",\"type\":\"string\",\"nullable\":true,\"metadata\":{}},{\"name\":\"weight\",\"type\":\"double\",\"nullable\":true,\"metadata\":{}},{\"name\":\"category_sku\",\"type\":\"string\",\"nullable\":true,\"metadata\":{}},{\"name\":\"category_name\",\"type\":\"string\",\"nullable\":true,\"metadata\":{}},{\"name\":\"ordered_quantity\",\"type\":\"integer\",\"nullable\":true,\"metadata\":{}},{\"name\":\"unit_price\",\"type\":\"float\",\"nullable\":true,\"metadata\":{}},{\"name\":\"seller_discount\",\"type\":\"float\",\"nullable\":true,\"metadata\":{}},{\"name\":\"shopee_discount\",\"type\":\"float\",\"nullable\":true,\"metadata\":{}},{\"name\":\"unit_discount\",\"type\":\"float\",\"nullable\":true,\"metadata\":{}},{\"name\":\"returned_quantity\",\"type\":\"integer\",\"nullable\":true,\"metadata\":{}},{\"name\":\"total_product_price\",\"type\":\"double\",\"nullable\":true,\"metadata\":{}},{\"name\":\"total_order_price\",\"type\":\"double\",\"nullable\":true,\"metadata\":{}},{\"name\":\"shop_discount_code\",\"type\":\"string\",\"nullable\":true,\"metadata\":{}},{\"name\":\"shopee_discount_code\",\"type\":\"string\",\"nullable\":true,\"metadata\":{}},{\"name\":\"estimated_shipping_fee\",\"type\":\"float\",\"nullable\":true,\"metadata\":{}},{\"name\":\"shipping_fee_paid_by_buyer\",\"type\":\"float\",\"nullable\":true,\"metadata\":{}},{\"name\":\"shopee_sponsored_shipping_fee\",\"type\":\"float\",\"nullable\":true,\"metadata\":{}},{\"name\":\"return_fee\",\"type\":\"float\",\"nullable\":true,\"metadata\":{}},{\"name\":\"payment_date\",\"type\":\"date\",\"nullable\":true,\"metadata\":{}},{\"name\":\"payment_method\",\"type\":\"string\",\"nullable\":true,\"metadata\":{}},{\"name\":\"buyer_name\",\"type\":\"string\",\"nullable\":true,\"metadata\":{}},{\"name\":\"delivery_address\",\"type\":\"string\",\"nullable\":true,\"metadata\":{}},{\"name\":\"city\",\"type\":\"string\",\"nullable\":true,\"metadata\":{}},{\"name\":\"district\",\"type\":\"string\",\"nullable\":true,\"metadata\":{}},{\"name\":\"ward\",\"type\":\"string\",\"nullable\":true,\"metadata\":{}},{\"name\":\"year\",\"type\":\"integer\",\"nullable\":true,\"metadata\":{}},{\"name\":\"month\",\"type\":\"integer\",\"nullable\":true,\"metadata\":{}}]},List(year, month),Map(),Some(1717142370032)), logSegment=LogSegment(s3a://kayden/bronze/shopee_sales/_delta_log,12,WrappedArray(S3AFileStatus{path=s3a://kayden/bronze/shopee_sales/_delta_log/00000000000000000011.json; isDirectory=false; length=2696; replication=1; blocksize=33554432; modification_time=1717142521936; access_time=0; owner=root; group=root; permission=rw-rw-rw-; isSymlink=false; hasAcl=false; isEncrypted=true; isErasureCoded=false} isEmptyDirectory=FALSE eTag=4bbc5a046788e1e57d4466210543cd95 versionId=null, S3AFileStatus{path=s3a://kayden/bronze/shopee_sales/_delta_log/00000000000000000012.json; isDirectory=false; length=2646; replication=1; blocksize=33554432; modification_time=1717142536914; access_time=0; owner=root; group=root; permission=rw-rw-rw-; isSymlink=false; hasAcl=false; isEncrypted=true; isErasureCoded=false} isEmptyDirectory=FALSE eTag=41492495b2e9d506ec74bf57ebd98c4e versionId=null),Some(PreloadedCheckpointProvider(WrappedArray(S3AFileStatus{path=s3a://kayden/bronze/shopee_sales/_delta_log/00000000000000000010.checkpoint.parquet; isDirectory=false; length=20735; replication=1; blocksize=33554432; modification_time=1717142507626; access_time=0; owner=root; group=root; permission=rw-rw-rw-; isSymlink=false; hasAcl=false; isEncrypted=true; isErasureCoded=false} isEmptyDirectory=FALSE eTag=96671f861c0131f06643e13ccc6fa897 versionId=null),None)),1717142536914), checksumOpt=None).\n"
     ]
    },
    {
     "name": "stdout",
     "output_type": "stream",
     "text": [
      "root\n",
      " |-- order_number: string (nullable = true)\n",
      " |-- order_date: date (nullable = true)\n",
      " |-- ship_date: date (nullable = true)\n",
      " |-- order_quantity: integer (nullable = true)\n",
      " |-- unit_price: float (nullable = true)\n",
      " |-- unit_discount: float (nullable = true)\n",
      " |-- sales_amount: float (nullable = true)\n",
      " |-- payment_date: date (nullable = true)\n",
      " |-- product_key: string (nullable = true)\n",
      " |-- product_name: string (nullable = true)\n",
      " |-- product_category: string (nullable = true)\n",
      " |-- price: float (nullable = true)\n",
      " |-- weight: double (nullable = true)\n",
      " |-- day: integer (nullable = true)\n",
      " |-- month: integer (nullable = true)\n",
      " |-- year: integer (nullable = true)\n",
      " |-- quarter: integer (nullable = true)\n",
      " |-- day_of_week: string (nullable = true)\n",
      " |-- day_of_week_number: integer (nullable = true)\n",
      " |-- shop_discount_code: string (nullable = true)\n",
      " |-- shopee_discount_code: string (nullable = true)\n",
      " |-- tracking_code: string (nullable = true)\n",
      " |-- shipping_company: string (nullable = true)\n",
      " |-- customer_name: string (nullable = true)\n",
      "\n"
     ]
    }
   ],
   "source": [
    "spark.sql(f\"USE bronze_{username}\")\n",
    "table = f\"bronze_{username}.shopee_sales\"\n",
    "query = f\"\"\"\n",
    "    SELECT \n",
    "        order_number,\n",
    "        order_date,\n",
    "        ship_date,\n",
    "        ordered_quantity as order_quantity,\n",
    "        unit_price,\n",
    "        unit_discount,\n",
    "        CAST(total_order_price AS FLOAT) as sales_amount,\n",
    "        payment_date,\n",
    "        product_key,\n",
    "        product_name,\n",
    "        category_name as product_category,\n",
    "        unit_price as price,\n",
    "        weight,\n",
    "        DAY(order_date) AS day,\n",
    "        MONTH(order_date) AS month,\n",
    "        YEAR(order_date) as year,\n",
    "        QUARTER(order_date) as quarter,\n",
    "        DATE_FORMAT(order_date, 'EEEE') AS day_of_week,\n",
    "        DAYOFWEEK(order_date) AS day_of_week_number,\n",
    "        shop_discount_code,\n",
    "        shopee_discount_code,\n",
    "        tracking_code,\n",
    "        shipping_company,\n",
    "        buyer_name as customer_name\n",
    "    FROM {table}\n",
    "\"\"\"\n",
    "\n",
    "sql_transformed_df = spark.sql(query)\n",
    "\n",
    "sql_transformed_df.printSchema()"
   ]
  },
  {
   "cell_type": "code",
   "execution_count": 12,
   "id": "5dfc809a-524f-414e-9185-f67e889db7d9",
   "metadata": {},
   "outputs": [
    {
     "data": {
      "text/html": [
       "<style>pre { white-space: pre !important; }</style>"
      ],
      "text/plain": [
       "<IPython.core.display.HTML object>"
      ]
     },
     "metadata": {},
     "output_type": "display_data"
    },
    {
     "name": "stderr",
     "output_type": "stream",
     "text": [
      "24/05/31 08:09:17 WARN package: Truncated the string representation of a plan since it was too large. This behavior can be adjusted by setting 'spark.sql.debug.maxToStringFields'.\n",
      "                                                                                \r"
     ]
    },
    {
     "name": "stdout",
     "output_type": "stream",
     "text": [
      "+--------------------+----------+----------+--------------+----------+-------------+------------+------------+-----------+--------------------+----------------+---------+------+---+-----+----+-------+-----------+------------------+------------------+--------------------+-------------+----------------+-------------------+\n",
      "|        order_number|order_date| ship_date|order_quantity|unit_price|unit_discount|sales_amount|payment_date|product_key|        product_name|product_category|    price|weight|day|month|year|quarter|day_of_week|day_of_week_number|shop_discount_code|shopee_discount_code|tracking_code|shipping_company|      customer_name|\n",
      "+--------------------+----------+----------+--------------+----------+-------------+------------+------------+-----------+--------------------+----------------+---------+------+---+-----+----+-------+-----------+------------------+------------------+--------------------+-------------+----------------+-------------------+\n",
      "|SO20210424/SHOPPE-23|2021-05-01|2021-04-29|          null|  119000.0|         null|        null|        null|    SKU-111|Hạt Hỗn Hợp Ngũ C...|            null| 119000.0|  75.0|  1|    5|2021|      2|   Saturday|                 7|              null|                null|         null|            null|    Phạm Thanh Ngân|\n",
      "|SO20210427/SHOPPE-26|2021-05-04|2021-05-02|          null| 1500000.0|         null|        null|        null|    SKU-100|     Máy ép trái cây|            null|1500000.0| 220.0|  4|    5|2021|      2|    Tuesday|                 3|              null|                null|         null|            null|     Lưu Yến Phương|\n",
      "|SO20210427/SHOPPE-62|2021-05-03|2021-04-28|          null|   13800.0|         null|        null|        null|      SKU-3|            Tiêu xay|            null|  13800.0|  45.0|  3|    5|2021|      2|     Monday|                 2|              null|                null|         null|            null|   Nguyễn Khánh Duy|\n",
      "|SO20210429/SHOPPE...|2021-05-04|2021-04-30|          null|   71500.0|         null|        null|        null|     SKU-65|Há Cảo Mini Nhân ...|            null|  71500.0| 500.0|  4|    5|2021|      2|    Tuesday|                 3|              null|                null|         null|            null|Nguyễn Đặng Minh Vy|\n",
      "|SO20210429/SHOPPE...|2021-05-08|2021-05-05|          null|  580000.0|         null|        null|        null|     SKU-81|            Nồi nhôm|            null| 580000.0|  null|  8|    5|2021|      2|   Saturday|                 7|              null|                null|         null|            null|   Nguyễn Trần Hiệp|\n",
      "|SO20210429/SHOPPE...|2021-05-03|2021-04-30|          null|   11500.0|         null|        null|        null|      SKU-4|       Khăn giấy hộp|            null|  11500.0|  null|  3|    5|2021|      2|     Monday|                 2|              null|                null|         null|            null|    Hoàng Khánh Chi|\n",
      "|SO20210430/SHOPPE...|2021-05-04|2021-05-03|          null|   12500.0|         null|        null|        null|      SKU-1|             Cháo ly|            null|  12500.0|  43.0|  4|    5|2021|      2|    Tuesday|                 3|              null|                null|         null|            null|      Trịnh Hiền My|\n",
      "|SO20210430/SHOPPE-24|2021-05-06|2021-05-02|          null| 1390000.0|         null|        null|        null|    SKU-103|         Máy ép chậm|            null|1390000.0| 150.0|  6|    5|2021|      2|   Thursday|                 5|              null|                null|         null|            null|      Dương Anh Đức|\n",
      "|SO20210430/SHOPPE-43|2021-05-09|2021-05-03|          null|  158000.0|         null|        null|        null|    SKU-109|Cháo Yến Mạch, Mậ...|            null| 158000.0| 320.0|  9|    5|2021|      2|     Sunday|                 1|              null|                null|         null|            null|       Đỗ Ánh Tuyết|\n",
      "|SO20210430/SHOPPE-57|2021-05-02|2021-05-01|          null|   80000.0|         null|        null|        null|    SKU-126|                 Kéo|            null|  80000.0|  null|  2|    5|2021|      2|     Sunday|                 1|              null|                null|         null|            null|       Hồ Nhật Minh|\n",
      "+--------------------+----------+----------+--------------+----------+-------------+------------+------------+-----------+--------------------+----------------+---------+------+---+-----+----+-------+-----------+------------------+------------------+--------------------+-------------+----------------+-------------------+\n",
      "only showing top 10 rows\n",
      "\n"
     ]
    }
   ],
   "source": [
    "from IPython.core.display import HTML\n",
    "display(HTML(\"<style>pre { white-space: pre !important; }</style>\"))\n",
    "# sql_transformed_df.toPandas().head(5)\n",
    "sql_transformed_df.show(10)"
   ]
  },
  {
   "cell_type": "code",
   "execution_count": 14,
   "id": "922dd36d-4f04-4fdc-81e9-dfaab11437fb",
   "metadata": {},
   "outputs": [
    {
     "name": "stderr",
     "output_type": "stream",
     "text": [
      "                                                                                \r"
     ]
    },
    {
     "name": "stdout",
     "output_type": "stream",
     "text": [
      "+--------------------+----------+----------+--------------+----------+-------------+------------+------------+-----------+--------------------+----------------+--------+------+---+-----+----+-------+-----------+------------------+------------------+--------------------+-------------+----------------+--------------------+\n",
      "|        order_number|order_date| ship_date|order_quantity|unit_price|unit_discount|sales_amount|payment_date|product_key|        product_name|product_category|   price|weight|day|month|year|quarter|day_of_week|day_of_week_number|shop_discount_code|shopee_discount_code|tracking_code|shipping_company|       customer_name|\n",
      "+--------------------+----------+----------+--------------+----------+-------------+------------+------------+-----------+--------------------+----------------+--------+------+---+-----+----+-------+-----------+------------------+------------------+--------------------+-------------+----------------+--------------------+\n",
      "|SO20210101/SHOPPE-10|2021-01-08|2021-01-07|          null|   85000.0|         null|        null|        null|    SKU-108|       Xay tiêu, tỏi|            null| 85000.0|  null|  8|    1|2021|      1|     Friday|                 6|              null|                null|         null|            null|Nguyễn Vĩnh Quốc Hào|\n",
      "|SO20210101/SHOPPE...|2021-01-09|2021-01-06|          null|   85000.0|         null|        null|        null|    SKU-108|       Xay tiêu, tỏi|            null| 85000.0|  null|  9|    1|2021|      1|   Saturday|                 7|              null|                null|         null|            null|      Trần Kim Khánh|\n",
      "|SO20210101/SHOPPE...|2021-01-08|2021-01-07|          null|  225000.0|         null|        null|        null|     SKU-96|        Giò Lụa Ngon|            null|225000.0|   1.0|  8|    1|2021|      1|     Friday|                 6|              null|                null|         null|            null| Hà Nguyễn Hồng Ngọc|\n",
      "|SO20210101/SHOPPE...|2021-01-08|2021-01-02|          null|  270000.0|         null|        null|        null|     SKU-97|      Cafe sữa lon  |            null|270000.0|  null|  8|    1|2021|      1|     Friday|                 6|              null|                null|         null|            null|  Đỗ Nguyễn Khánh Ly|\n",
      "|SO20210101/SHOPPE...|2021-01-07|2021-01-05|          null|   85000.0|         null|        null|        null|    SKU-108|       Xay tiêu, tỏi|            null| 85000.0|  null|  7|    1|2021|      1|   Thursday|                 5|              null|                null|         null|            null|     Ngụy Đình Giang|\n",
      "|SO20210101/SHOPPE...|2021-01-08|2021-01-05|          null|  215000.0|         null|        null|        null|     SKU-93|             Bún mắm|            null|215000.0|  60.0|  8|    1|2021|      1|     Friday|                 6|              null|                null|         null|            null|   Nguyễn Trường Sơn|\n",
      "|SO20210101/SHOPPE...|2021-01-10|2021-01-05|          null|   18500.0|         null|        null|        null|     SKU-21|         Bột rau câu|            null| 18500.0| 106.0| 10|    1|2021|      1|     Sunday|                 1|              null|                null|         null|            null|   Trần Lê Nam Khánh|\n",
      "|SO20210101/SHOPPE...|2021-01-05|2021-01-03|          null|   17500.0|         null|        null|        null|    SKU-152|  Muối hồng Himalaya|            null| 17500.0| 200.0|  5|    1|2021|      1|    Tuesday|                 3|              null|                null|         null|            null|   Phan Thị Ánh Hồng|\n",
      "|SO20210101/SHOPPE...|2021-01-06|2021-01-04|          null|  550000.0|         null|        null|        null|     SKU-84|Thịt Càng Cua Biể...|            null|550000.0| 454.0|  6|    1|2021|      1|  Wednesday|                 4|              null|                null|         null|            null|     Dương Xuân Sang|\n",
      "|SO20210101/SHOPPE...|2021-01-09|2021-01-03|          null|  215000.0|         null|        null|        null|     SKU-93|             Bún mắm|            null|215000.0|  60.0|  9|    1|2021|      1|   Saturday|                 7|              null|                null|         null|            null|  Phan Thị Ngọc Thảo|\n",
      "+--------------------+----------+----------+--------------+----------+-------------+------------+------------+-----------+--------------------+----------------+--------+------+---+-----+----+-------+-----------+------------------+------------------+--------------------+-------------+----------------+--------------------+\n",
      "only showing top 10 rows\n",
      "\n"
     ]
    },
    {
     "name": "stderr",
     "output_type": "stream",
     "text": [
      "                                                                                \r"
     ]
    }
   ],
   "source": [
    "from pyspark.sql import DataFrame, Window\n",
    "from pyspark.sql.functions import col, when, last, desc, dense_rank, to_date, date_format\n",
    "cleaned_df = sql_transformed_df \\\n",
    "            .filter(col(\"order_number\").isNotNull() & col(\"product_key\").isNotNull() & col(\"order_date\").isNotNull()) \\\n",
    "            .withColumn(\"product_name\", when(col(\"product_name\").isNull(), \n",
    "                                            last(\"product_name\", ignorenulls=True)\n",
    "                                            .over(Window.partitionBy(\"product_key\").orderBy(\"order_date\")))\n",
    "                        .otherwise(col(\"product_name\"))) \\\n",
    "            .na.drop(subset=[\"order_number\", \"product_key\", \"order_date\", \"product_name\"]) \\\n",
    "            .withColumn(\"rank\", dense_rank().over(Window.partitionBy(\"order_number\", \"product_key\").orderBy(desc(\"order_date\")))) \\\n",
    "            .filter(col(\"rank\") == 1) \\\n",
    "            .drop(\"rank\")\n",
    "cleaned_df.show(10)\n",
    "null_core_columns = cleaned_df.filter(col(\"order_number\").isNull() | col(\"product_key\").isNull() | col(\"order_date\").isNull() | col(\"product_name\").isNull())\n",
    "    \n",
    "    # Count the number of rows with null core columns\n",
    "null_core_count = null_core_columns.count()"
   ]
  },
  {
   "cell_type": "code",
   "execution_count": 15,
   "id": "2daf489e-3b73-4f61-b9f6-a7f36616388a",
   "metadata": {},
   "outputs": [
    {
     "name": "stdout",
     "output_type": "stream",
     "text": [
      "number of rows with null core columns: 0\n"
     ]
    }
   ],
   "source": [
    "print(\"number of rows with null core columns:\", null_core_count)"
   ]
  },
  {
   "cell_type": "code",
   "execution_count": 16,
   "id": "b89c6b21-4dbf-46eb-aca7-1ad81904c5cd",
   "metadata": {},
   "outputs": [
    {
     "name": "stdout",
     "output_type": "stream",
     "text": [
      "root\n",
      " |-- order_number: string (nullable = true)\n",
      " |-- order_date: date (nullable = true)\n",
      " |-- ship_date: date (nullable = true)\n",
      " |-- order_quantity: integer (nullable = true)\n",
      " |-- unit_price: float (nullable = true)\n",
      " |-- unit_discount: float (nullable = true)\n",
      " |-- sales_amount: float (nullable = true)\n",
      " |-- payment_date: date (nullable = true)\n",
      " |-- product_key: string (nullable = true)\n",
      " |-- product_name: string (nullable = true)\n",
      " |-- product_category: string (nullable = true)\n",
      " |-- price: float (nullable = true)\n",
      " |-- weight: double (nullable = true)\n",
      " |-- day: integer (nullable = true)\n",
      " |-- month: integer (nullable = true)\n",
      " |-- year: integer (nullable = true)\n",
      " |-- quarter: integer (nullable = true)\n",
      " |-- day_of_week: string (nullable = true)\n",
      " |-- day_of_week_number: integer (nullable = true)\n",
      " |-- shop_discount_code: string (nullable = true)\n",
      " |-- shopee_discount_code: string (nullable = true)\n",
      " |-- tracking_code: string (nullable = true)\n",
      " |-- shipping_company: string (nullable = true)\n",
      " |-- customer_name: string (nullable = true)\n",
      "\n"
     ]
    }
   ],
   "source": [
    "cleaned_df.printSchema()"
   ]
  },
  {
   "cell_type": "code",
   "execution_count": 17,
   "id": "0bb64628-5936-4db9-af62-c6727858ea93",
   "metadata": {},
   "outputs": [
    {
     "name": "stderr",
     "output_type": "stream",
     "text": [
      "[Stage 26:=======================>                                  (2 + 3) / 5]\r"
     ]
    },
    {
     "name": "stdout",
     "output_type": "stream",
     "text": [
      "+--------------------+----------+----------+--------------+----------+-------------+------------+------------+-----------+--------------------+----------------+--------+------+---+-----+----+-------+-----------+------------------+------------------+--------------------+-------------+----------------+--------------------+\n",
      "|        order_number|order_date| ship_date|order_quantity|unit_price|unit_discount|sales_amount|payment_date|product_key|        product_name|product_category|   price|weight|day|month|year|quarter|day_of_week|day_of_week_number|shop_discount_code|shopee_discount_code|tracking_code|shipping_company|       customer_name|\n",
      "+--------------------+----------+----------+--------------+----------+-------------+------------+------------+-----------+--------------------+----------------+--------+------+---+-----+----+-------+-----------+------------------+------------------+--------------------+-------------+----------------+--------------------+\n",
      "|SO20210101/SHOPPE-10|2021-01-08|2021-01-07|             1|   85000.0|          0.0|     85000.0|        null|    SKU-108|       Xay tiêu, tỏi|            null| 85000.0|   0.0|  8|    1|2021|      1|     Friday|                 6|              null|                null|         null|            null|Nguyễn Vĩnh Quốc Hào|\n",
      "|SO20210101/SHOPPE...|2021-01-09|2021-01-06|             1|   85000.0|          0.0|     85000.0|        null|    SKU-108|       Xay tiêu, tỏi|            null| 85000.0|   0.0|  9|    1|2021|      1|   Saturday|                 7|              null|                null|         null|            null|      Trần Kim Khánh|\n",
      "|SO20210101/SHOPPE...|2021-01-08|2021-01-07|             1|  225000.0|          0.0|    225000.0|        null|     SKU-96|        Giò Lụa Ngon|            null|225000.0|   1.0|  8|    1|2021|      1|     Friday|                 6|              null|                null|         null|            null| Hà Nguyễn Hồng Ngọc|\n",
      "|SO20210101/SHOPPE...|2021-01-08|2021-01-02|             1|  270000.0|          0.0|    270000.0|        null|     SKU-97|      Cafe sữa lon  |            null|270000.0|   0.0|  8|    1|2021|      1|     Friday|                 6|              null|                null|         null|            null|  Đỗ Nguyễn Khánh Ly|\n",
      "|SO20210101/SHOPPE...|2021-01-07|2021-01-05|             1|   85000.0|          0.0|     85000.0|        null|    SKU-108|       Xay tiêu, tỏi|            null| 85000.0|   0.0|  7|    1|2021|      1|   Thursday|                 5|              null|                null|         null|            null|     Ngụy Đình Giang|\n",
      "|SO20210101/SHOPPE...|2021-01-08|2021-01-05|             1|  215000.0|          0.0|    215000.0|        null|     SKU-93|             Bún mắm|            null|215000.0|  60.0|  8|    1|2021|      1|     Friday|                 6|              null|                null|         null|            null|   Nguyễn Trường Sơn|\n",
      "|SO20210101/SHOPPE...|2021-01-10|2021-01-05|             1|   18500.0|          0.0|     18500.0|        null|     SKU-21|         Bột rau câu|            null| 18500.0| 106.0| 10|    1|2021|      1|     Sunday|                 1|              null|                null|         null|            null|   Trần Lê Nam Khánh|\n",
      "|SO20210101/SHOPPE...|2021-01-05|2021-01-03|             1|   17500.0|          0.0|     17500.0|        null|    SKU-152|  Muối hồng Himalaya|            null| 17500.0| 200.0|  5|    1|2021|      1|    Tuesday|                 3|              null|                null|         null|            null|   Phan Thị Ánh Hồng|\n",
      "|SO20210101/SHOPPE...|2021-01-06|2021-01-04|             1|  550000.0|          0.0|    550000.0|        null|     SKU-84|Thịt Càng Cua Biể...|            null|550000.0| 454.0|  6|    1|2021|      1|  Wednesday|                 4|              null|                null|         null|            null|     Dương Xuân Sang|\n",
      "|SO20210101/SHOPPE...|2021-01-09|2021-01-03|             1|  215000.0|          0.0|    215000.0|        null|     SKU-93|             Bún mắm|            null|215000.0|  60.0|  9|    1|2021|      1|   Saturday|                 7|              null|                null|         null|            null|  Phan Thị Ngọc Thảo|\n",
      "|SO20210101/SHOPPE...|2021-01-03|2021-01-02|             1|   85000.0|          0.0|     85000.0|        null|    SKU-108|       Xay tiêu, tỏi|            null| 85000.0|   0.0|  3|    1|2021|      1|     Sunday|                 1|              null|                null|         null|            null|        Lê Văn Thành|\n",
      "|SO20210101/SHOPPE...|2021-01-06|2021-01-04|             1|   80000.0|          0.0|     80000.0|        null|    SKU-114|   Kẹp gắp, khui hộp|            null| 80000.0|   0.0|  6|    1|2021|      1|  Wednesday|                 4|              null|                null|         null|            null|       Ngô Thu Huyền|\n",
      "|SO20210101/SHOPPE...|2021-01-09|2021-01-04|             1|  225000.0|          0.0|    225000.0|        null|     SKU-96|        Giò Lụa Ngon|            null|225000.0|   1.0|  9|    1|2021|      1|   Saturday|                 7|              null|                null|         null|            null| Nguyễn Trường Giang|\n",
      "|SO20210101/SHOPPE...|2021-01-07|2021-01-06|             1|   85000.0|          0.0|     85000.0|        null|    SKU-108|       Xay tiêu, tỏi|            null| 85000.0|   0.0|  7|    1|2021|      1|   Thursday|                 5|              null|                null|         null|            null|        Bùi Tấn Phát|\n",
      "|SO20210101/SHOPPE...|2021-01-07|2021-01-03|             1|  360000.0|          0.0|    360000.0|        null|     SKU-28|     Cháo đóng thùng|            null|360000.0|  70.0|  7|    1|2021|      1|   Thursday|                 5|              null|                null|         null|            null|       Trần Ngọc Ánh|\n",
      "|SO20210101/SHOPPE...|2021-01-07|2021-01-02|             1|   39000.0|          0.0|     39000.0|        null|     SKU-75| Rau Sắc Màu Hỗn Hợp|            null| 39000.0| 400.0|  7|    1|2021|      1|   Thursday|                 5|              null|                null|         null|            null|     Biện Thị Mai Vy|\n",
      "|SO20210101/SHOPPE...|2021-01-06|2021-01-05|             1|  550000.0|          0.0|    550000.0|        null|     SKU-84|Thịt Càng Cua Biể...|            null|550000.0| 454.0|  6|    1|2021|      1|  Wednesday|                 4|              null|                null|         null|            null|         Lê Đỗ Hà An|\n",
      "|SO20210101/SHOPPE...|2021-01-10|2021-01-06|             1|   82000.0|          0.0|     82000.0|        null|    SKU-106|Túi đựng rác size...|            null| 82000.0|   0.0| 10|    1|2021|      1|     Sunday|                 1|              null|                null|         null|            null|        Chu Hoài Anh|\n",
      "|SO20210101/SHOPPE...|2021-01-04|2021-01-02|             1|   85000.0|          0.0|     85000.0|        null|    SKU-108|       Xay tiêu, tỏi|            null| 85000.0|   0.0|  4|    1|2021|      1|     Monday|                 2|              null|                null|         null|            null|       Phạm Minh Đức|\n",
      "| SO20210101/SHOPPE-2|2021-01-10|2021-01-07|             1|  215000.0|          0.0|    215000.0|        null|     SKU-93|             Bún mắm|            null|215000.0|  60.0| 10|    1|2021|      1|     Sunday|                 1|              null|                null|         null|            null|Nguyễn Thị Phương...|\n",
      "+--------------------+----------+----------+--------------+----------+-------------+------------+------------+-----------+--------------------+----------------+--------+------+---+-----+----+-------+-----------+------------------+------------------+--------------------+-------------+----------------+--------------------+\n",
      "only showing top 20 rows\n",
      "\n"
     ]
    },
    {
     "name": "stderr",
     "output_type": "stream",
     "text": [
      "                                                                                \r"
     ]
    }
   ],
   "source": [
    "numeric_columns = ['unit_price', 'unit_discount', 'sales_amount', 'price', 'weight']\n",
    "for col_name in numeric_columns:\n",
    "    cleaned_df = cleaned_df.withColumn(col_name, when(col(col_name).isNull() | (col(col_name) < 0), 0).otherwise(col(col_name)))\n",
    "\n",
    "cleaned_df = cleaned_df.withColumn('order_quantity', when(col('order_quantity').isNull() | (col('order_quantity') == 0), 1).otherwise(col('order_quantity')))\n",
    "\n",
    "# Replace null or 0 values in sales_amount with (unit_price * ordered_quantity) - unit_discount\n",
    "cleaned_df = cleaned_df.withColumn('sales_amount', when((col('sales_amount').isNull()) | (col('sales_amount') == 0), (col('unit_price') * col('order_quantity')) - col('unit_discount')).otherwise(col('sales_amount')))\n",
    "    \n",
    "# Format date columns to 'yyyy-MM-dd'\n",
    "date_columns = ['order_date', 'ship_date', 'payment_date']\n",
    "for col_name in date_columns:\n",
    "    cleaned_df = cleaned_df.withColumn(col_name, to_date(col(col_name), 'yyyy-MM-dd').cast('date'))\n",
    "\n",
    "# Format order_date to 'yyyy-MM-dd'\n",
    "cleaned_df = cleaned_df.withColumn('order_date', date_format(col('order_date'), 'yyyy-MM-dd'))\n",
    "\n",
    "cleaned_df.show()"
   ]
  },
  {
   "cell_type": "code",
   "execution_count": 19,
   "id": "6ca52b5c-e62b-4c0f-81b5-d475fa44b511",
   "metadata": {},
   "outputs": [],
   "source": [
    "def __ensure_data_quality(df: DataFrame, quality_issues) -> bool:\n",
    "    quality_checks_passed = True\n",
    "    \n",
    "    # Example quality checks:\n",
    "    \n",
    "    # Check for null values in critical columns\n",
    "    null_checks = [\"order_number\", \"order_date\", \"product_key\", \"product_name\"]\n",
    "    for column in null_checks:\n",
    "        null_count = df.filter(col(column).isNull()).count()\n",
    "        if null_count > 0:\n",
    "            quality_issues.append(f\"Column '{column}' has {null_count} null values.\")\n",
    "            quality_checks_passed = False\n",
    "\n",
    "    # Check for negative values in numerical columns\n",
    "    negative_checks = ['unit_price', 'unit_discount', 'sales_amount', 'price', 'weight']\n",
    "    for column in negative_checks:\n",
    "        negative_count = df.filter(col(column) < 0).count()\n",
    "        if negative_count > 0:\n",
    "            quality_issues.append(f\"Column '{column}' has {negative_count} negative values.\")\n",
    "            quality_checks_passed = False\n",
    "\n",
    "    # Check for invalid date ranges\n",
    "    date_checks = ['order_date', 'ship_date', 'payment_date']\n",
    "    for column in date_checks:\n",
    "        invalid_dates_count = df.filter(col(column) > lit(\"2100-01-01\")).count()\n",
    "        if invalid_dates_count > 0:\n",
    "            quality_issues.append(f\"Column '{column}' has {invalid_dates_count} invalid future dates.\")\n",
    "            quality_checks_passed = False\n",
    "\n",
    "    # Add additional quality checks as needed\n",
    "\n",
    "    return quality_checks_passed, quality_issues\n",
    "\n",
    "def __report_quality_issues(quality_issues):\n",
    "    # Report quality issues (e.g., log to a file, print to console, etc.)\n",
    "    print(\"Data quality issues found:\")\n",
    "    for issue in quality_issues:\n",
    "        print(issue)"
   ]
  },
  {
   "cell_type": "code",
   "execution_count": 23,
   "id": "44af1568-4ccd-4300-98ec-a3357834781c",
   "metadata": {},
   "outputs": [
    {
     "name": "stderr",
     "output_type": "stream",
     "text": [
      "[Stage 183:==================================>                      (3 + 2) / 5]\r"
     ]
    },
    {
     "name": "stdout",
     "output_type": "stream",
     "text": [
      "passed\n"
     ]
    },
    {
     "name": "stderr",
     "output_type": "stream",
     "text": [
      "                                                                                \r"
     ]
    }
   ],
   "source": [
    "if __ensure_data_quality(cleaned_df, []):\n",
    "    print(\"passed\")\n",
    "else:\n",
    "    __report_quality_issues()"
   ]
  },
  {
   "cell_type": "code",
   "execution_count": 30,
   "id": "f83929f3-db52-4429-af66-c49a1a91e97b",
   "metadata": {},
   "outputs": [],
   "source": [
    "def __write_to_silver(df: DataFrame, username):\n",
    "    source = 'shopee'\n",
    "    silver_table_path = f's3a://{username}/silver/{source}_sales_silver'\n",
    "    silver_table = f\"silver_{username}.{source}_sales_silver\"\n",
    "    try: \n",
    "        if DeltaTable.isDeltaTable(spark, silver_table_path):\n",
    "            delta_table = DeltaTable.forPath(spark, silver_table_path)\n",
    "            delta_table.alias(\"tgt\").merge(\n",
    "                df.alias(\"src\"),\n",
    "                \"tgt.order_number = src.order_number AND tgt.product_key = src.product_key\"\n",
    "            ).whenMatchedUpdateAll().whenNotMatchedInsertAll().execute()\n",
    "        else:\n",
    "            df.write.format(\"delta\").mode(\"overwrite\").save(silver_table_path)\n",
    "\n",
    "        spark.sql(f\"CREATE TABLE IF NOT EXISTS {silver_table} USING DELTA LOCATION '{silver_table_path}'\")\n",
    "        print(\"Data has been successfully loaded to Silver.\")\n",
    "    except Exception as e:\n",
    "        # Handle the error appropriately\n",
    "        print(\"Error occurred while load data to Silver:\", str(e))"
   ]
  },
  {
   "cell_type": "code",
   "execution_count": 31,
   "id": "f5d8735e-f027-49aa-89da-6d8175e0d9df",
   "metadata": {},
   "outputs": [
    {
     "name": "stderr",
     "output_type": "stream",
     "text": [
      "24/05/31 08:23:24 WARN HiveExternalCatalog: Couldn't find corresponding Hive SerDe for data source provider delta. Persisting data source table `spark_catalog`.`silver_kayden`.`shopee_sales_silver` into Hive metastore in Spark SQL specific format, which is NOT compatible with Hive.\n"
     ]
    },
    {
     "name": "stdout",
     "output_type": "stream",
     "text": [
      "Data has been successfully loaded to Silver.\n"
     ]
    }
   ],
   "source": [
    "spark.sql(f\"CREATE DATABASE IF NOT EXISTS silver_{username}\")\n",
    "__write_to_silver(cleaned_df, username)"
   ]
  },
  {
   "cell_type": "code",
   "execution_count": 35,
   "id": "529755e2-0b7e-44e9-ab00-c35d70476464",
   "metadata": {},
   "outputs": [
    {
     "name": "stderr",
     "output_type": "stream",
     "text": [
      "                                                                                \r"
     ]
    },
    {
     "name": "stdout",
     "output_type": "stream",
     "text": [
      "+--------------------+----------+----------+--------------+----------+-------------+------------+------------+-----------+--------------------+----------------+--------+------+---+-----+----+-------+-----------+------------------+------------------+--------------------+-------------+----------------+--------------------+\n",
      "|        order_number|order_date| ship_date|order_quantity|unit_price|unit_discount|sales_amount|payment_date|product_key|        product_name|product_category|   price|weight|day|month|year|quarter|day_of_week|day_of_week_number|shop_discount_code|shopee_discount_code|tracking_code|shipping_company|       customer_name|\n",
      "+--------------------+----------+----------+--------------+----------+-------------+------------+------------+-----------+--------------------+----------------+--------+------+---+-----+----+-------+-----------+------------------+------------------+--------------------+-------------+----------------+--------------------+\n",
      "|SO20210101/SHOPPE...|2021-01-11|2021-01-06|             1|    4200.0|          0.0|      4200.0|        null|     SKU-13|        Mì khoai tây|            null|  4200.0|  75.0| 11|    1|2021|      1|     Monday|                 2|              null|                null|         null|            null|           Vũ Thu Hà|\n",
      "|SO20210101/SHOPPE...|2021-01-07|2021-01-04|             1|   69000.0|          0.0|     69000.0|        null|     SKU-63|Túi đựng rác size...|            null| 69000.0|   0.0|  7|    1|2021|      1|   Thursday|                 5|              null|                null|         null|            null|    Nguyễn Quang Huy|\n",
      "|SO20210101/SHOPPE...|2021-01-10|2021-01-04|             1|  580000.0|          0.0|    580000.0|        null|     SKU-81|            Nồi nhôm|            null|580000.0|   0.0| 10|    1|2021|      1|     Sunday|                 1|              null|                null|         null|            null|        Trần Mỹ Linh|\n",
      "|SO20210101/SHOPPE...|2021-01-09|2021-01-03|             1|   13800.0|          0.0|     13800.0|        null|      SKU-3|            Tiêu xay|            null| 13800.0|  45.0|  9|    1|2021|      1|   Saturday|                 7|              null|                null|         null|            null|         Doãn Cẩm Ly|\n",
      "|SO20210101/SHOPPE...|2021-01-08|2021-01-05|             1|   13800.0|          0.0|     13800.0|        null|      SKU-3|            Tiêu xay|            null| 13800.0|  45.0|  8|    1|2021|      1|     Friday|                 6|              null|                null|         null|            null|        Hà Thục Hiền|\n",
      "|SO20210101/SHOPPE-12|2021-01-09|2021-01-06|             1|   69000.0|          0.0|     69000.0|        null|     SKU-63|Túi đựng rác size...|            null| 69000.0|   0.0|  9|    1|2021|      1|   Saturday|                 7|              null|                null|         null|            null|Trần Nguyễn Nhật Nam|\n",
      "|SO20210101/SHOPPE...|2021-01-09|2021-01-04|             1|  250000.0|          0.0|    250000.0|        null|     SKU-94|       Miến lẩu thái|            null|250000.0|  60.0|  9|    1|2021|      1|   Saturday|                 7|              null|                null|         null|            null|    Đỗ Hoàng Gia Bảo|\n",
      "|SO20210101/SHOPPE...|2021-01-05|2021-01-02|             1|   13800.0|          0.0|     13800.0|        null|      SKU-3|            Tiêu xay|            null| 13800.0|  45.0|  5|    1|2021|      1|    Tuesday|                 3|              null|                null|         null|            null|Nguyễn Quách Tuấn...|\n",
      "|SO20210101/SHOPPE...|2021-01-12|2021-01-06|             1|   69000.0|          0.0|     69000.0|        null|     SKU-63|Túi đựng rác size...|            null| 69000.0|   0.0| 12|    1|2021|      1|    Tuesday|                 3|              null|                null|         null|            null|   Trần Thị Kim Ngân|\n",
      "|SO20210101/SHOPPE...|2021-01-03|2021-01-02|             1|  119000.0|          0.0|    119000.0|        null|    SKU-111|Hạt Hỗn Hợp Ngũ C...|            null|119000.0|  75.0|  3|    1|2021|      1|     Sunday|                 1|              null|                null|         null|            null|       Hoàng Mai Anh|\n",
      "+--------------------+----------+----------+--------------+----------+-------------+------------+------------+-----------+--------------------+----------------+--------+------+---+-----+----+-------+-----------+------------------+------------------+--------------------+-------------+----------------+--------------------+\n",
      "\n"
     ]
    }
   ],
   "source": [
    "spark.sql(\"USE silver_kayden\")\n",
    "query_df = spark.sql(\"SELECT * FROM silver_kayden.shopee_sales_silver LIMIT 10\")\n",
    "query_df.show()"
   ]
  },
  {
   "cell_type": "code",
   "execution_count": 48,
   "id": "dc08e952-686b-4cf3-a58c-320f542bf9e2",
   "metadata": {},
   "outputs": [],
   "source": [
    "class Silver:\n",
    "\n",
    "    # Set up logging\n",
    "    logging.basicConfig(level=logging.INFO, format='%(asctime)s %(levelname)s: %(message)s')\n",
    "    logger = logging.getLogger(__name__)\n",
    "\n",
    "    def __init__(self, spark, username, source):\n",
    "        self.spark = spark\n",
    "        self.username = username\n",
    "        # self.bronze_df = self.__read_bronze_data()\n",
    "        self.source = source\n",
    "        self.quality_issues = []\n",
    "\n",
    "    def run(self):\n",
    "        self.logger.info(\"Starting ETL process.\")\n",
    "        self.spark.sql(f\"CREATE DATABASE IF NOT EXISTS silver_{self.username}\")\n",
    "        transformed_df = self.transform()\n",
    "        if self.__ensure_data_quality(transformed_df):\n",
    "            self.__write_to_silver(transformed_df)\n",
    "        else:\n",
    "            self.__report_quality_issues()\n",
    "\n",
    "    # def __read_bronze_data(self):\n",
    "    #     bronze_table_path = f\"s3a://{self.username}/bronze/{self.source}_sales\"\n",
    "    #     logger.info(f\"Reading bronze data from {bronze_table_path}.\")\n",
    "    #     df = self.spark.read.format(\"delta\").load(bronze_table_path)\n",
    "    #     if df.schema == shopee_bronze_schema:\n",
    "    #         logger.info(\"Bronze data schema validated.\")\n",
    "    #         return df\n",
    "    #     else:\n",
    "    #         logger.error(\"Schema mismatch for the Bronze table data.\")\n",
    "    #         raise ValueError(\"Schema mismatch for the Bronze table data.\")\n",
    "\n",
    "    def transform(self):\n",
    "        if self.source == 'shopee':\n",
    "            self.logger.info(\"Transforming Shopee data.\")\n",
    "            return self.__shopee_transform()\n",
    "        \n",
    "    def __shopee_transform(self):\n",
    "        self.logger.info(\"Starting Shopee data transformation.\")\n",
    "        self.spark.sql(f\"USE bronze_{self.username}\")\n",
    "        table = f\"bronze_{self.username}.shopee_sales\"\n",
    "        query = f\"\"\"\n",
    "            SELECT \n",
    "                order_number,\n",
    "                order_date,\n",
    "                ship_date,\n",
    "                ordered_quantity as order_quantity,\n",
    "                unit_price,\n",
    "                unit_discount,\n",
    "                CAST(total_order_price AS FLOAT) as sales_amount,\n",
    "                payment_date,\n",
    "                product_key,\n",
    "                product_name,\n",
    "                category_name as product_category,\n",
    "                unit_price as price,\n",
    "                weight,\n",
    "                DAY(order_date) AS day,\n",
    "                MONTH(order_date) AS month,\n",
    "                YEAR(order_date) as year,\n",
    "                QUARTER(order_date) as quarter,\n",
    "                DATE_FORMAT(order_date, 'EEEE') AS day_of_week,\n",
    "                DAYOFWEEK(order_date) AS day_of_week_number,\n",
    "                shop_discount_code,\n",
    "                shopee_discount_code,\n",
    "                tracking_code,\n",
    "                shipping_company,\n",
    "                buyer_name as customer_name\n",
    "            FROM {table}\n",
    "        \"\"\"\n",
    "\n",
    "        sql_transformed_df = self.spark.sql(query)\n",
    "        self.logger.info(\"Shopee data transformed using SQL query.\")\n",
    "\n",
    "        # Clean data\n",
    "        cleaned_df = sql_transformed_df \\\n",
    "            .filter(col(\"order_number\").isNotNull() & col(\"product_key\").isNotNull() & col(\"order_date\").isNotNull()) \\\n",
    "            .withColumn(\"product_name\", when(col(\"product_name\").isNull(), \n",
    "                                            last(\"product_name\", ignorenulls=True)\n",
    "                                            .over(Window.partitionBy(\"product_key\").orderBy(\"order_date\")))\n",
    "                        .otherwise(col(\"product_name\"))) \\\n",
    "            .na.drop(subset=[\"order_number\", \"product_key\", \"order_date\", \"product_name\"]) \\\n",
    "            .withColumn(\"rank\", dense_rank().over(Window.partitionBy(\"order_number\", \"product_key\").orderBy(desc(\"order_date\")))) \\\n",
    "            .filter(col(\"rank\") == 1) \\\n",
    "            .drop(\"rank\")\n",
    "        \n",
    "        # Transform data\n",
    "        numeric_columns = ['unit_price', 'unit_discount', 'sales_amount', 'price', 'weight']\n",
    "        for col_name in numeric_columns:\n",
    "            transformed_df = cleaned_df.withColumn(col_name, when(col(col_name).isNull() | (col(col_name) < 0), 0).otherwise(col(col_name)))\n",
    "\n",
    "        transformed_df = transformed_df.withColumn('order_quantity', when(col('order_quantity').isNull() | (col('order_quantity') == 0), 1).otherwise(col('order_quantity')))\n",
    "        \n",
    "        # Replace null or 0 values in sales_amount with (unit_price * ordered_quantity) - unit_discount\n",
    "        transformed_df = transformed_df.withColumn('sales_amount', when((col('sales_amount').isNull()) | (col('sales_amount') == 0), (col('unit_price') * col('order_quantity')) - col('unit_discount')).otherwise(col('sales_amount')))\n",
    "            \n",
    "        # Format date columns to 'yyyy-MM-dd'\n",
    "        date_columns = ['order_date', 'ship_date', 'payment_date']\n",
    "        for col_name in date_columns:\n",
    "            transformed_df = transformed_df.withColumn(col_name, to_date(col(col_name), 'yyyy-MM-dd').cast('date'))\n",
    "        \n",
    "        # Format order_date to 'yyyy-MM-dd'\n",
    "        transformed_df = transformed_df.withColumn('order_date', date_format(col('order_date'), 'yyyy-MM-dd'))\n",
    "\n",
    "        self.logger.info(\"Shopee data transformation completed.\")\n",
    "        return transformed_df\n",
    "    \n",
    "    def __ensure_data_quality(self, df: DataFrame) -> bool:\n",
    "        self.logger.info(\"Starting data quality checks.\")\n",
    "        quality_checks_passed = True\n",
    "        \n",
    "        # Example quality checks:\n",
    "        \n",
    "        # Check for null values in critical columns\n",
    "        null_checks = [\"order_number\", \"order_date\", \"product_key\", \"product_name\"]\n",
    "        for column in null_checks:\n",
    "            null_count = df.filter(col(column).isNull()).count()\n",
    "            if null_count > 0:\n",
    "                issue = f\"Column '{column}' has {null_count} null values.\"\n",
    "                self.quality_issues.append(issue)\n",
    "                self.logger.warning(issue)\n",
    "                quality_checks_passed = False\n",
    "\n",
    "        # Check for negative values in numerical columns\n",
    "        negative_checks = ['unit_price', 'unit_discount', 'sales_amount', 'price', 'weight']\n",
    "        for column in negative_checks:\n",
    "            negative_count = df.filter(col(column) < 0).count()\n",
    "            if negative_count > 0:\n",
    "                issue = f\"Column '{column}' has {negative_count} negative values.\"\n",
    "                self.quality_issues.append(issue)\n",
    "                self.logger.warning(issue)\n",
    "                quality_checks_passed = False\n",
    "\n",
    "        # Check for invalid date ranges\n",
    "        date_checks = ['order_date', 'ship_date', 'payment_date']\n",
    "        for column in date_checks:\n",
    "            invalid_dates_count = df.filter(col(column) > lit(\"2100-01-01\")).count()\n",
    "            if invalid_dates_count > 0:\n",
    "                issue = f\"Column '{column}' has {invalid_dates_count} invalid future dates.\"\n",
    "                self.quality_issues.append(issue)\n",
    "                self.logger.warning(issue)\n",
    "                quality_checks_passed = False\n",
    "\n",
    "        # Add additional quality checks as needed\n",
    "\n",
    "        self.logger.info(\"Data quality checks completed.\")\n",
    "        return quality_checks_passed\n",
    "\n",
    "    def __write_to_silver(self, df: DataFrame):\n",
    "        silver_table_path = f's3a://{self.username}/silver/{self.source}_sales_silver'\n",
    "        silver_table = f\"silver_{self.username}.{self.source}_sales_silver\"\n",
    "        try: \n",
    "            self.logger.info(f\"Writing data to Silver at {silver_table_path}.\")\n",
    "            if DeltaTable.isDeltaTable(self.spark, silver_table_path):\n",
    "                delta_table = DeltaTable.forPath(self.spark, silver_table_path)\n",
    "                delta_table.alias(\"tgt\").merge(\n",
    "                    df.alias(\"src\"),\n",
    "                    \"tgt.order_number = src.order_number AND tgt.product_key = src.product_key\"\n",
    "                ).whenMatchedUpdateAll().whenNotMatchedInsertAll().execute()\n",
    "            else:\n",
    "                df.write.format(\"delta\").mode(\"overwrite\").save(silver_table_path)\n",
    "\n",
    "            self.spark.sql(f\"CREATE TABLE IF NOT EXISTS {silver_table} USING DELTA LOCATION '{silver_table_path}'\")\n",
    "            self.logger.info(\"Data has been successfully loaded to Silver.\")\n",
    "        except Exception as e:\n",
    "            self.logger.error(\"Error occurred while loading data to Silver:\", exc_info=True)\n",
    "\n",
    "    def __report_quality_issues(self):\n",
    "        # Report quality issues (e.g., log to a file, print to console, etc.)\n",
    "        self.logger.info(\"Data quality issues found:\")\n",
    "        for issue in self.quality_issues:\n",
    "            self.logger.error(issue)"
   ]
  },
  {
   "cell_type": "code",
   "execution_count": 49,
   "id": "c6136955-ac1b-4336-a98d-ba882799f649",
   "metadata": {},
   "outputs": [
    {
     "name": "stderr",
     "output_type": "stream",
     "text": [
      "INFO:__main__:Starting ETL process.\n",
      "INFO:__main__:Transforming Shopee data.\n",
      "INFO:__main__:Starting Shopee data transformation.\n",
      "INFO:__main__:Shopee data transformed using SQL query.\n",
      "INFO:__main__:Shopee data transformation completed.\n",
      "INFO:__main__:Starting data quality checks.\n",
      "INFO:__main__:Data quality checks completed.                                    \n",
      "INFO:__main__:Writing data to Silver at s3a://kayden/silver/shopee_sales_silver.\n",
      "INFO:__main__:Data has been successfully loaded to Silver.                      \n"
     ]
    }
   ],
   "source": [
    "silver = Silver(spark, username, 'shopee')\n",
    "silver.run()"
   ]
  },
  {
   "cell_type": "code",
   "execution_count": 53,
   "id": "badb0761-21b2-4111-892a-da2bed60b44c",
   "metadata": {},
   "outputs": [
    {
     "data": {
      "text/plain": [
       "DataFrame[]"
      ]
     },
     "execution_count": 53,
     "metadata": {},
     "output_type": "execute_result"
    }
   ],
   "source": [
    "spark.sql(\"DROP DATABASE IF EXISTS bronze_kayden\")\n",
    "spark.sql(\"DROP DATABASE IF EXISTS silver_kayden\")\n",
    "# spark.sql(\"DROP TABLE IF EXISTS bronze_kayden.shopee_sales\")\n",
    "# spark.sql(\"DROP TABLE IF EXISTS silver_kayden.shopee_sales_silver\")"
   ]
  },
  {
   "cell_type": "code",
   "execution_count": null,
   "id": "7dfcb960-bb02-49d3-9955-c022b8bbdb78",
   "metadata": {},
   "outputs": [],
   "source": []
  }
 ],
 "metadata": {
  "kernelspec": {
   "display_name": "Python 3 (ipykernel)",
   "language": "python",
   "name": "python3"
  },
  "language_info": {
   "codemirror_mode": {
    "name": "ipython",
    "version": 3
   },
   "file_extension": ".py",
   "mimetype": "text/x-python",
   "name": "python",
   "nbconvert_exporter": "python",
   "pygments_lexer": "ipython3",
   "version": "3.10.14"
  }
 },
 "nbformat": 4,
 "nbformat_minor": 5
}
