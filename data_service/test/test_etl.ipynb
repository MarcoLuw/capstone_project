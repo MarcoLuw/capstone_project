{
 "cells": [
  {
   "cell_type": "code",
   "execution_count": null,
   "metadata": {},
   "outputs": [],
   "source": [
    "from pyspark.sql import SparkSession\n",
    "from utils.common import get_spark_session\n",
    "\n",
    "spark = SparkSession.builder()\\\n",
    "\t\t.appName(\"SparkSample\")\\\n",
    "\t\t.master(\"spark://123.456.789:7077\")\\\n",
    "\t\t.getOrCreate()"
   ]
  }
 ],
 "metadata": {
  "language_info": {
   "name": "python"
  }
 },
 "nbformat": 4,
 "nbformat_minor": 2
}
